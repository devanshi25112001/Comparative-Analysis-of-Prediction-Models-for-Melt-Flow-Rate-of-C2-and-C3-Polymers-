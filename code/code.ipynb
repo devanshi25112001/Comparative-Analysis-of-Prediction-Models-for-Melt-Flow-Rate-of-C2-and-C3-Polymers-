{
  "cells": [
    {
      "cell_type": "code",
      "execution_count": null,
      "id": "9adb8187",
      "metadata": {
        "id": "9adb8187"
      },
      "outputs": [],
      "source": [
        "import pandas as pd\n",
        "import numpy as np\n",
        "import statistics\n",
        "import matplotlib.pyplot as plt\n",
        "from scipy.stats import norm\n",
        "import seaborn as sn"
      ]
    },
    {
      "cell_type": "code",
      "execution_count": null,
      "id": "b71c63cd",
      "metadata": {
        "id": "b71c63cd"
      },
      "outputs": [],
      "source": [
        "df = pd.read_csv(\"algo.csv\")"
      ]
    },
    {
      "cell_type": "code",
      "execution_count": null,
      "id": "ffbad7ee",
      "metadata": {
        "id": "ffbad7ee",
        "colab": {
          "base_uri": "https://localhost:8080/",
          "height": 659
        },
        "outputId": "e76ec559-cb50-478b-ebd1-d5cbb20ca383"
      },
      "outputs": [
        {
          "output_type": "execute_result",
          "data": {
            "text/plain": [
              "                  Time  513FC31103.pv  513HC31114-5.mv  513PC31201.pv  \\\n",
              "0       4/5/2018 19:45      24856.584            0.153      30.414835   \n",
              "1       4/5/2018 21:45      25537.250            0.153      30.527121   \n",
              "2       4/5/2018 23:45      25689.266            0.153      30.356180   \n",
              "3        4/6/2018 1:45      25098.754            0.153      30.894308   \n",
              "4        4/6/2018 3:45      24853.941            0.150      30.680647   \n",
              "...                ...            ...              ...            ...   \n",
              "2559   12/10/2018 9:45      24437.988            0.185      31.025928   \n",
              "2560  12/17/2018 16:45            NaN              NaN            NaN   \n",
              "2561  12/17/2018 18:45            NaN              NaN            NaN   \n",
              "2562   12/27/2018 5:45            NaN              NaN            NaN   \n",
              "2563  12/31/2018 23:45            NaN            0.000            NaN   \n",
              "\n",
              "      513LC31202.pv  513FC31409.pv  513FC31114-5.pv  513TC31220.pv   MFR  \n",
              "0         79.657906      50850.578         0.163994      80.399605   3.4  \n",
              "1         78.532608      42229.813         0.129739      78.861328   3.2  \n",
              "2         78.842636      45335.852         0.150003      78.818115   3.2  \n",
              "3         79.173500      43077.016         0.151543      79.022720   3.1  \n",
              "4         78.677299      40404.387         0.122582      79.038483   3.3  \n",
              "...             ...            ...              ...            ...   ...  \n",
              "2559      77.189499      24022.730         0.103966      81.783371  12.3  \n",
              "2560            NaN            NaN              NaN            NaN   3.5  \n",
              "2561            NaN            NaN              NaN            NaN   4.0  \n",
              "2562            NaN            NaN              NaN            NaN   3.7  \n",
              "2563            NaN            NaN              NaN            NaN   3.4  \n",
              "\n",
              "[2564 rows x 9 columns]"
            ],
            "text/html": [
              "\n",
              "  <div id=\"df-0063e6ee-dc64-4a60-9414-81835c5f26f5\">\n",
              "    <div class=\"colab-df-container\">\n",
              "      <div>\n",
              "<style scoped>\n",
              "    .dataframe tbody tr th:only-of-type {\n",
              "        vertical-align: middle;\n",
              "    }\n",
              "\n",
              "    .dataframe tbody tr th {\n",
              "        vertical-align: top;\n",
              "    }\n",
              "\n",
              "    .dataframe thead th {\n",
              "        text-align: right;\n",
              "    }\n",
              "</style>\n",
              "<table border=\"1\" class=\"dataframe\">\n",
              "  <thead>\n",
              "    <tr style=\"text-align: right;\">\n",
              "      <th></th>\n",
              "      <th>Time</th>\n",
              "      <th>513FC31103.pv</th>\n",
              "      <th>513HC31114-5.mv</th>\n",
              "      <th>513PC31201.pv</th>\n",
              "      <th>513LC31202.pv</th>\n",
              "      <th>513FC31409.pv</th>\n",
              "      <th>513FC31114-5.pv</th>\n",
              "      <th>513TC31220.pv</th>\n",
              "      <th>MFR</th>\n",
              "    </tr>\n",
              "  </thead>\n",
              "  <tbody>\n",
              "    <tr>\n",
              "      <th>0</th>\n",
              "      <td>4/5/2018 19:45</td>\n",
              "      <td>24856.584</td>\n",
              "      <td>0.153</td>\n",
              "      <td>30.414835</td>\n",
              "      <td>79.657906</td>\n",
              "      <td>50850.578</td>\n",
              "      <td>0.163994</td>\n",
              "      <td>80.399605</td>\n",
              "      <td>3.4</td>\n",
              "    </tr>\n",
              "    <tr>\n",
              "      <th>1</th>\n",
              "      <td>4/5/2018 21:45</td>\n",
              "      <td>25537.250</td>\n",
              "      <td>0.153</td>\n",
              "      <td>30.527121</td>\n",
              "      <td>78.532608</td>\n",
              "      <td>42229.813</td>\n",
              "      <td>0.129739</td>\n",
              "      <td>78.861328</td>\n",
              "      <td>3.2</td>\n",
              "    </tr>\n",
              "    <tr>\n",
              "      <th>2</th>\n",
              "      <td>4/5/2018 23:45</td>\n",
              "      <td>25689.266</td>\n",
              "      <td>0.153</td>\n",
              "      <td>30.356180</td>\n",
              "      <td>78.842636</td>\n",
              "      <td>45335.852</td>\n",
              "      <td>0.150003</td>\n",
              "      <td>78.818115</td>\n",
              "      <td>3.2</td>\n",
              "    </tr>\n",
              "    <tr>\n",
              "      <th>3</th>\n",
              "      <td>4/6/2018 1:45</td>\n",
              "      <td>25098.754</td>\n",
              "      <td>0.153</td>\n",
              "      <td>30.894308</td>\n",
              "      <td>79.173500</td>\n",
              "      <td>43077.016</td>\n",
              "      <td>0.151543</td>\n",
              "      <td>79.022720</td>\n",
              "      <td>3.1</td>\n",
              "    </tr>\n",
              "    <tr>\n",
              "      <th>4</th>\n",
              "      <td>4/6/2018 3:45</td>\n",
              "      <td>24853.941</td>\n",
              "      <td>0.150</td>\n",
              "      <td>30.680647</td>\n",
              "      <td>78.677299</td>\n",
              "      <td>40404.387</td>\n",
              "      <td>0.122582</td>\n",
              "      <td>79.038483</td>\n",
              "      <td>3.3</td>\n",
              "    </tr>\n",
              "    <tr>\n",
              "      <th>...</th>\n",
              "      <td>...</td>\n",
              "      <td>...</td>\n",
              "      <td>...</td>\n",
              "      <td>...</td>\n",
              "      <td>...</td>\n",
              "      <td>...</td>\n",
              "      <td>...</td>\n",
              "      <td>...</td>\n",
              "      <td>...</td>\n",
              "    </tr>\n",
              "    <tr>\n",
              "      <th>2559</th>\n",
              "      <td>12/10/2018 9:45</td>\n",
              "      <td>24437.988</td>\n",
              "      <td>0.185</td>\n",
              "      <td>31.025928</td>\n",
              "      <td>77.189499</td>\n",
              "      <td>24022.730</td>\n",
              "      <td>0.103966</td>\n",
              "      <td>81.783371</td>\n",
              "      <td>12.3</td>\n",
              "    </tr>\n",
              "    <tr>\n",
              "      <th>2560</th>\n",
              "      <td>12/17/2018 16:45</td>\n",
              "      <td>NaN</td>\n",
              "      <td>NaN</td>\n",
              "      <td>NaN</td>\n",
              "      <td>NaN</td>\n",
              "      <td>NaN</td>\n",
              "      <td>NaN</td>\n",
              "      <td>NaN</td>\n",
              "      <td>3.5</td>\n",
              "    </tr>\n",
              "    <tr>\n",
              "      <th>2561</th>\n",
              "      <td>12/17/2018 18:45</td>\n",
              "      <td>NaN</td>\n",
              "      <td>NaN</td>\n",
              "      <td>NaN</td>\n",
              "      <td>NaN</td>\n",
              "      <td>NaN</td>\n",
              "      <td>NaN</td>\n",
              "      <td>NaN</td>\n",
              "      <td>4.0</td>\n",
              "    </tr>\n",
              "    <tr>\n",
              "      <th>2562</th>\n",
              "      <td>12/27/2018 5:45</td>\n",
              "      <td>NaN</td>\n",
              "      <td>NaN</td>\n",
              "      <td>NaN</td>\n",
              "      <td>NaN</td>\n",
              "      <td>NaN</td>\n",
              "      <td>NaN</td>\n",
              "      <td>NaN</td>\n",
              "      <td>3.7</td>\n",
              "    </tr>\n",
              "    <tr>\n",
              "      <th>2563</th>\n",
              "      <td>12/31/2018 23:45</td>\n",
              "      <td>NaN</td>\n",
              "      <td>0.000</td>\n",
              "      <td>NaN</td>\n",
              "      <td>NaN</td>\n",
              "      <td>NaN</td>\n",
              "      <td>NaN</td>\n",
              "      <td>NaN</td>\n",
              "      <td>3.4</td>\n",
              "    </tr>\n",
              "  </tbody>\n",
              "</table>\n",
              "<p>2564 rows × 9 columns</p>\n",
              "</div>\n",
              "      <button class=\"colab-df-convert\" onclick=\"convertToInteractive('df-0063e6ee-dc64-4a60-9414-81835c5f26f5')\"\n",
              "              title=\"Convert this dataframe to an interactive table.\"\n",
              "              style=\"display:none;\">\n",
              "        \n",
              "  <svg xmlns=\"http://www.w3.org/2000/svg\" height=\"24px\"viewBox=\"0 0 24 24\"\n",
              "       width=\"24px\">\n",
              "    <path d=\"M0 0h24v24H0V0z\" fill=\"none\"/>\n",
              "    <path d=\"M18.56 5.44l.94 2.06.94-2.06 2.06-.94-2.06-.94-.94-2.06-.94 2.06-2.06.94zm-11 1L8.5 8.5l.94-2.06 2.06-.94-2.06-.94L8.5 2.5l-.94 2.06-2.06.94zm10 10l.94 2.06.94-2.06 2.06-.94-2.06-.94-.94-2.06-.94 2.06-2.06.94z\"/><path d=\"M17.41 7.96l-1.37-1.37c-.4-.4-.92-.59-1.43-.59-.52 0-1.04.2-1.43.59L10.3 9.45l-7.72 7.72c-.78.78-.78 2.05 0 2.83L4 21.41c.39.39.9.59 1.41.59.51 0 1.02-.2 1.41-.59l7.78-7.78 2.81-2.81c.8-.78.8-2.07 0-2.86zM5.41 20L4 18.59l7.72-7.72 1.47 1.35L5.41 20z\"/>\n",
              "  </svg>\n",
              "      </button>\n",
              "      \n",
              "  <style>\n",
              "    .colab-df-container {\n",
              "      display:flex;\n",
              "      flex-wrap:wrap;\n",
              "      gap: 12px;\n",
              "    }\n",
              "\n",
              "    .colab-df-convert {\n",
              "      background-color: #E8F0FE;\n",
              "      border: none;\n",
              "      border-radius: 50%;\n",
              "      cursor: pointer;\n",
              "      display: none;\n",
              "      fill: #1967D2;\n",
              "      height: 32px;\n",
              "      padding: 0 0 0 0;\n",
              "      width: 32px;\n",
              "    }\n",
              "\n",
              "    .colab-df-convert:hover {\n",
              "      background-color: #E2EBFA;\n",
              "      box-shadow: 0px 1px 2px rgba(60, 64, 67, 0.3), 0px 1px 3px 1px rgba(60, 64, 67, 0.15);\n",
              "      fill: #174EA6;\n",
              "    }\n",
              "\n",
              "    [theme=dark] .colab-df-convert {\n",
              "      background-color: #3B4455;\n",
              "      fill: #D2E3FC;\n",
              "    }\n",
              "\n",
              "    [theme=dark] .colab-df-convert:hover {\n",
              "      background-color: #434B5C;\n",
              "      box-shadow: 0px 1px 3px 1px rgba(0, 0, 0, 0.15);\n",
              "      filter: drop-shadow(0px 1px 2px rgba(0, 0, 0, 0.3));\n",
              "      fill: #FFFFFF;\n",
              "    }\n",
              "  </style>\n",
              "\n",
              "      <script>\n",
              "        const buttonEl =\n",
              "          document.querySelector('#df-0063e6ee-dc64-4a60-9414-81835c5f26f5 button.colab-df-convert');\n",
              "        buttonEl.style.display =\n",
              "          google.colab.kernel.accessAllowed ? 'block' : 'none';\n",
              "\n",
              "        async function convertToInteractive(key) {\n",
              "          const element = document.querySelector('#df-0063e6ee-dc64-4a60-9414-81835c5f26f5');\n",
              "          const dataTable =\n",
              "            await google.colab.kernel.invokeFunction('convertToInteractive',\n",
              "                                                     [key], {});\n",
              "          if (!dataTable) return;\n",
              "\n",
              "          const docLinkHtml = 'Like what you see? Visit the ' +\n",
              "            '<a target=\"_blank\" href=https://colab.research.google.com/notebooks/data_table.ipynb>data table notebook</a>'\n",
              "            + ' to learn more about interactive tables.';\n",
              "          element.innerHTML = '';\n",
              "          dataTable['output_type'] = 'display_data';\n",
              "          await google.colab.output.renderOutput(dataTable, element);\n",
              "          const docLink = document.createElement('div');\n",
              "          docLink.innerHTML = docLinkHtml;\n",
              "          element.appendChild(docLink);\n",
              "        }\n",
              "      </script>\n",
              "    </div>\n",
              "  </div>\n",
              "  "
            ]
          },
          "metadata": {},
          "execution_count": 3
        }
      ],
      "source": [
        "df"
      ]
    },
    {
      "cell_type": "code",
      "source": [
        "df['513FC31103.pv']=df['513FC31103.pv'].fillna(df['513FC31103.pv'].mean())\n",
        "df['513PC31201.pv']=df['513PC31201.pv'].fillna(df['513PC31201.pv'].mean())\n",
        "df['513HC31114-5.mv']=df['513HC31114-5.mv'].fillna(df['513HC31114-5.mv'].mean())\n",
        "df['513LC31202.pv']=df['513LC31202.pv'].fillna(df['513LC31202.pv'].mean())\n",
        "df['513FC31409.pv']=df['513FC31409.pv'].fillna(df['513FC31409.pv'].mean())\n",
        "df['513FC31114-5.pv']=df['513FC31114-5.pv'].fillna(df['513FC31114-5.pv'].mean())\n",
        "df['513TC31220.pv']=df['513TC31220.pv'].fillna(df['513TC31220.pv'].mean())\n",
        "\n",
        "df.var(axis=0)\n",
        "df"
      ],
      "metadata": {
        "id": "NTQ-qxZy2yiz",
        "colab": {
          "base_uri": "https://localhost:8080/",
          "height": 713
        },
        "outputId": "303727c3-0915-4ae5-f0be-5ae0dbb631f0"
      },
      "id": "NTQ-qxZy2yiz",
      "execution_count": null,
      "outputs": [
        {
          "output_type": "stream",
          "name": "stderr",
          "text": [
            "/usr/local/lib/python3.7/dist-packages/ipykernel_launcher.py:9: FutureWarning: Dropping of nuisance columns in DataFrame reductions (with 'numeric_only=None') is deprecated; in a future version this will raise TypeError.  Select only valid columns before calling the reduction.\n",
            "  if __name__ == '__main__':\n"
          ]
        },
        {
          "output_type": "execute_result",
          "data": {
            "text/plain": [
              "                  Time  513FC31103.pv  513HC31114-5.mv  513PC31201.pv  \\\n",
              "0       4/5/2018 19:45   24856.584000         0.153000      30.414835   \n",
              "1       4/5/2018 21:45   25537.250000         0.153000      30.527121   \n",
              "2       4/5/2018 23:45   25689.266000         0.153000      30.356180   \n",
              "3        4/6/2018 1:45   25098.754000         0.153000      30.894308   \n",
              "4        4/6/2018 3:45   24853.941000         0.150000      30.680647   \n",
              "...                ...            ...              ...            ...   \n",
              "2559   12/10/2018 9:45   24437.988000         0.185000      31.025928   \n",
              "2560  12/17/2018 16:45   25306.285729         0.178427      30.663706   \n",
              "2561  12/17/2018 18:45   25306.285729         0.178427      30.663706   \n",
              "2562   12/27/2018 5:45   25306.285729         0.178427      30.663706   \n",
              "2563  12/31/2018 23:45   25306.285729         0.000000      30.663706   \n",
              "\n",
              "      513LC31202.pv  513FC31409.pv  513FC31114-5.pv  513TC31220.pv   MFR  \n",
              "0         79.657906      50850.578         0.163994      80.399605   3.4  \n",
              "1         78.532608      42229.813         0.129739      78.861328   3.2  \n",
              "2         78.842636      45335.852         0.150003      78.818115   3.2  \n",
              "3         79.173500      43077.016         0.151543      79.022720   3.1  \n",
              "4         78.677299      40404.387         0.122582      79.038483   3.3  \n",
              "...             ...            ...              ...            ...   ...  \n",
              "2559      77.189499      24022.730         0.103966      81.783371  12.3  \n",
              "2560      77.651055      42525.140         0.138530      80.144365   3.5  \n",
              "2561      77.651055      42525.140         0.138530      80.144365   4.0  \n",
              "2562      77.651055      42525.140         0.138530      80.144365   3.7  \n",
              "2563      77.651055      42525.140         0.138530      80.144365   3.4  \n",
              "\n",
              "[2564 rows x 9 columns]"
            ],
            "text/html": [
              "\n",
              "  <div id=\"df-42f4be73-f30e-463a-bf83-82871a6792a4\">\n",
              "    <div class=\"colab-df-container\">\n",
              "      <div>\n",
              "<style scoped>\n",
              "    .dataframe tbody tr th:only-of-type {\n",
              "        vertical-align: middle;\n",
              "    }\n",
              "\n",
              "    .dataframe tbody tr th {\n",
              "        vertical-align: top;\n",
              "    }\n",
              "\n",
              "    .dataframe thead th {\n",
              "        text-align: right;\n",
              "    }\n",
              "</style>\n",
              "<table border=\"1\" class=\"dataframe\">\n",
              "  <thead>\n",
              "    <tr style=\"text-align: right;\">\n",
              "      <th></th>\n",
              "      <th>Time</th>\n",
              "      <th>513FC31103.pv</th>\n",
              "      <th>513HC31114-5.mv</th>\n",
              "      <th>513PC31201.pv</th>\n",
              "      <th>513LC31202.pv</th>\n",
              "      <th>513FC31409.pv</th>\n",
              "      <th>513FC31114-5.pv</th>\n",
              "      <th>513TC31220.pv</th>\n",
              "      <th>MFR</th>\n",
              "    </tr>\n",
              "  </thead>\n",
              "  <tbody>\n",
              "    <tr>\n",
              "      <th>0</th>\n",
              "      <td>4/5/2018 19:45</td>\n",
              "      <td>24856.584000</td>\n",
              "      <td>0.153000</td>\n",
              "      <td>30.414835</td>\n",
              "      <td>79.657906</td>\n",
              "      <td>50850.578</td>\n",
              "      <td>0.163994</td>\n",
              "      <td>80.399605</td>\n",
              "      <td>3.4</td>\n",
              "    </tr>\n",
              "    <tr>\n",
              "      <th>1</th>\n",
              "      <td>4/5/2018 21:45</td>\n",
              "      <td>25537.250000</td>\n",
              "      <td>0.153000</td>\n",
              "      <td>30.527121</td>\n",
              "      <td>78.532608</td>\n",
              "      <td>42229.813</td>\n",
              "      <td>0.129739</td>\n",
              "      <td>78.861328</td>\n",
              "      <td>3.2</td>\n",
              "    </tr>\n",
              "    <tr>\n",
              "      <th>2</th>\n",
              "      <td>4/5/2018 23:45</td>\n",
              "      <td>25689.266000</td>\n",
              "      <td>0.153000</td>\n",
              "      <td>30.356180</td>\n",
              "      <td>78.842636</td>\n",
              "      <td>45335.852</td>\n",
              "      <td>0.150003</td>\n",
              "      <td>78.818115</td>\n",
              "      <td>3.2</td>\n",
              "    </tr>\n",
              "    <tr>\n",
              "      <th>3</th>\n",
              "      <td>4/6/2018 1:45</td>\n",
              "      <td>25098.754000</td>\n",
              "      <td>0.153000</td>\n",
              "      <td>30.894308</td>\n",
              "      <td>79.173500</td>\n",
              "      <td>43077.016</td>\n",
              "      <td>0.151543</td>\n",
              "      <td>79.022720</td>\n",
              "      <td>3.1</td>\n",
              "    </tr>\n",
              "    <tr>\n",
              "      <th>4</th>\n",
              "      <td>4/6/2018 3:45</td>\n",
              "      <td>24853.941000</td>\n",
              "      <td>0.150000</td>\n",
              "      <td>30.680647</td>\n",
              "      <td>78.677299</td>\n",
              "      <td>40404.387</td>\n",
              "      <td>0.122582</td>\n",
              "      <td>79.038483</td>\n",
              "      <td>3.3</td>\n",
              "    </tr>\n",
              "    <tr>\n",
              "      <th>...</th>\n",
              "      <td>...</td>\n",
              "      <td>...</td>\n",
              "      <td>...</td>\n",
              "      <td>...</td>\n",
              "      <td>...</td>\n",
              "      <td>...</td>\n",
              "      <td>...</td>\n",
              "      <td>...</td>\n",
              "      <td>...</td>\n",
              "    </tr>\n",
              "    <tr>\n",
              "      <th>2559</th>\n",
              "      <td>12/10/2018 9:45</td>\n",
              "      <td>24437.988000</td>\n",
              "      <td>0.185000</td>\n",
              "      <td>31.025928</td>\n",
              "      <td>77.189499</td>\n",
              "      <td>24022.730</td>\n",
              "      <td>0.103966</td>\n",
              "      <td>81.783371</td>\n",
              "      <td>12.3</td>\n",
              "    </tr>\n",
              "    <tr>\n",
              "      <th>2560</th>\n",
              "      <td>12/17/2018 16:45</td>\n",
              "      <td>25306.285729</td>\n",
              "      <td>0.178427</td>\n",
              "      <td>30.663706</td>\n",
              "      <td>77.651055</td>\n",
              "      <td>42525.140</td>\n",
              "      <td>0.138530</td>\n",
              "      <td>80.144365</td>\n",
              "      <td>3.5</td>\n",
              "    </tr>\n",
              "    <tr>\n",
              "      <th>2561</th>\n",
              "      <td>12/17/2018 18:45</td>\n",
              "      <td>25306.285729</td>\n",
              "      <td>0.178427</td>\n",
              "      <td>30.663706</td>\n",
              "      <td>77.651055</td>\n",
              "      <td>42525.140</td>\n",
              "      <td>0.138530</td>\n",
              "      <td>80.144365</td>\n",
              "      <td>4.0</td>\n",
              "    </tr>\n",
              "    <tr>\n",
              "      <th>2562</th>\n",
              "      <td>12/27/2018 5:45</td>\n",
              "      <td>25306.285729</td>\n",
              "      <td>0.178427</td>\n",
              "      <td>30.663706</td>\n",
              "      <td>77.651055</td>\n",
              "      <td>42525.140</td>\n",
              "      <td>0.138530</td>\n",
              "      <td>80.144365</td>\n",
              "      <td>3.7</td>\n",
              "    </tr>\n",
              "    <tr>\n",
              "      <th>2563</th>\n",
              "      <td>12/31/2018 23:45</td>\n",
              "      <td>25306.285729</td>\n",
              "      <td>0.000000</td>\n",
              "      <td>30.663706</td>\n",
              "      <td>77.651055</td>\n",
              "      <td>42525.140</td>\n",
              "      <td>0.138530</td>\n",
              "      <td>80.144365</td>\n",
              "      <td>3.4</td>\n",
              "    </tr>\n",
              "  </tbody>\n",
              "</table>\n",
              "<p>2564 rows × 9 columns</p>\n",
              "</div>\n",
              "      <button class=\"colab-df-convert\" onclick=\"convertToInteractive('df-42f4be73-f30e-463a-bf83-82871a6792a4')\"\n",
              "              title=\"Convert this dataframe to an interactive table.\"\n",
              "              style=\"display:none;\">\n",
              "        \n",
              "  <svg xmlns=\"http://www.w3.org/2000/svg\" height=\"24px\"viewBox=\"0 0 24 24\"\n",
              "       width=\"24px\">\n",
              "    <path d=\"M0 0h24v24H0V0z\" fill=\"none\"/>\n",
              "    <path d=\"M18.56 5.44l.94 2.06.94-2.06 2.06-.94-2.06-.94-.94-2.06-.94 2.06-2.06.94zm-11 1L8.5 8.5l.94-2.06 2.06-.94-2.06-.94L8.5 2.5l-.94 2.06-2.06.94zm10 10l.94 2.06.94-2.06 2.06-.94-2.06-.94-.94-2.06-.94 2.06-2.06.94z\"/><path d=\"M17.41 7.96l-1.37-1.37c-.4-.4-.92-.59-1.43-.59-.52 0-1.04.2-1.43.59L10.3 9.45l-7.72 7.72c-.78.78-.78 2.05 0 2.83L4 21.41c.39.39.9.59 1.41.59.51 0 1.02-.2 1.41-.59l7.78-7.78 2.81-2.81c.8-.78.8-2.07 0-2.86zM5.41 20L4 18.59l7.72-7.72 1.47 1.35L5.41 20z\"/>\n",
              "  </svg>\n",
              "      </button>\n",
              "      \n",
              "  <style>\n",
              "    .colab-df-container {\n",
              "      display:flex;\n",
              "      flex-wrap:wrap;\n",
              "      gap: 12px;\n",
              "    }\n",
              "\n",
              "    .colab-df-convert {\n",
              "      background-color: #E8F0FE;\n",
              "      border: none;\n",
              "      border-radius: 50%;\n",
              "      cursor: pointer;\n",
              "      display: none;\n",
              "      fill: #1967D2;\n",
              "      height: 32px;\n",
              "      padding: 0 0 0 0;\n",
              "      width: 32px;\n",
              "    }\n",
              "\n",
              "    .colab-df-convert:hover {\n",
              "      background-color: #E2EBFA;\n",
              "      box-shadow: 0px 1px 2px rgba(60, 64, 67, 0.3), 0px 1px 3px 1px rgba(60, 64, 67, 0.15);\n",
              "      fill: #174EA6;\n",
              "    }\n",
              "\n",
              "    [theme=dark] .colab-df-convert {\n",
              "      background-color: #3B4455;\n",
              "      fill: #D2E3FC;\n",
              "    }\n",
              "\n",
              "    [theme=dark] .colab-df-convert:hover {\n",
              "      background-color: #434B5C;\n",
              "      box-shadow: 0px 1px 3px 1px rgba(0, 0, 0, 0.15);\n",
              "      filter: drop-shadow(0px 1px 2px rgba(0, 0, 0, 0.3));\n",
              "      fill: #FFFFFF;\n",
              "    }\n",
              "  </style>\n",
              "\n",
              "      <script>\n",
              "        const buttonEl =\n",
              "          document.querySelector('#df-42f4be73-f30e-463a-bf83-82871a6792a4 button.colab-df-convert');\n",
              "        buttonEl.style.display =\n",
              "          google.colab.kernel.accessAllowed ? 'block' : 'none';\n",
              "\n",
              "        async function convertToInteractive(key) {\n",
              "          const element = document.querySelector('#df-42f4be73-f30e-463a-bf83-82871a6792a4');\n",
              "          const dataTable =\n",
              "            await google.colab.kernel.invokeFunction('convertToInteractive',\n",
              "                                                     [key], {});\n",
              "          if (!dataTable) return;\n",
              "\n",
              "          const docLinkHtml = 'Like what you see? Visit the ' +\n",
              "            '<a target=\"_blank\" href=https://colab.research.google.com/notebooks/data_table.ipynb>data table notebook</a>'\n",
              "            + ' to learn more about interactive tables.';\n",
              "          element.innerHTML = '';\n",
              "          dataTable['output_type'] = 'display_data';\n",
              "          await google.colab.output.renderOutput(dataTable, element);\n",
              "          const docLink = document.createElement('div');\n",
              "          docLink.innerHTML = docLinkHtml;\n",
              "          element.appendChild(docLink);\n",
              "        }\n",
              "      </script>\n",
              "    </div>\n",
              "  </div>\n",
              "  "
            ]
          },
          "metadata": {},
          "execution_count": 4
        }
      ]
    },
    {
      "cell_type": "markdown",
      "source": [
        "MEAN\n",
        "\n",
        "---\n",
        "\n"
      ],
      "metadata": {
        "id": "IO-mLiRyscvK"
      },
      "id": "IO-mLiRyscvK"
    },
    {
      "cell_type": "code",
      "execution_count": null,
      "id": "010d8a2f",
      "metadata": {
        "id": "010d8a2f",
        "colab": {
          "base_uri": "https://localhost:8080/"
        },
        "outputId": "530d8128-ea19-4652-b663-cd46531ddefd"
      },
      "outputs": [
        {
          "output_type": "stream",
          "name": "stderr",
          "text": [
            "/usr/local/lib/python3.7/dist-packages/ipykernel_launcher.py:3: FutureWarning: Dropping of nuisance columns in DataFrame reductions (with 'numeric_only=None') is deprecated; in a future version this will raise TypeError.  Select only valid columns before calling the reduction.\n",
            "  This is separate from the ipykernel package so we can avoid doing imports until\n"
          ]
        }
      ],
      "source": [
        "\n",
        "\n",
        "df1 = df.mean().to_frame()\n",
        "df1.columns=[\"Mean\"]\n",
        "df1.to_csv(\"/mean.csv\")\n"
      ]
    },
    {
      "cell_type": "markdown",
      "source": [
        "RANGE"
      ],
      "metadata": {
        "id": "CgLNtxigub27"
      },
      "id": "CgLNtxigub27"
    },
    {
      "cell_type": "code",
      "execution_count": null,
      "id": "22c79685",
      "metadata": {
        "id": "22c79685"
      },
      "outputs": [],
      "source": [
        "max_data = df[\"513FC31103.pv\"].max()\n",
        "min_data = df[\"513FC31103.pv\"].min()\n",
        "range_data = max_data - min_data\n",
        "print(range_data)"
      ]
    },
    {
      "cell_type": "code",
      "execution_count": null,
      "id": "1b8ed479",
      "metadata": {
        "id": "1b8ed479"
      },
      "outputs": [],
      "source": [
        "df.var()"
      ]
    },
    {
      "cell_type": "code",
      "execution_count": null,
      "id": "6d55a571",
      "metadata": {
        "id": "6d55a571"
      },
      "outputs": [],
      "source": [
        "df.loc[:,\"513FC31103.pv\"].var()"
      ]
    },
    {
      "cell_type": "markdown",
      "source": [
        "MEDIAN"
      ],
      "metadata": {
        "id": "mQ5qpw9Vs-nJ"
      },
      "id": "mQ5qpw9Vs-nJ"
    },
    {
      "cell_type": "code",
      "source": [
        "df.median()\n",
        "df3 = df.median().to_frame()\n",
        "df3.columns=[\"Median\"]\n",
        "df3.to_csv(\"/median.csv\")"
      ],
      "metadata": {
        "id": "1iTNCe3Nt_dS"
      },
      "id": "1iTNCe3Nt_dS",
      "execution_count": null,
      "outputs": []
    },
    {
      "cell_type": "markdown",
      "source": [
        "MODE"
      ],
      "metadata": {
        "id": "yCmEHxXCs5Rm"
      },
      "id": "yCmEHxXCs5Rm"
    },
    {
      "cell_type": "code",
      "execution_count": null,
      "id": "2665d453",
      "metadata": {
        "id": "2665d453"
      },
      "outputs": [],
      "source": [
        "mode = df[\"513FC31114-5.pv\"].mode()\n",
        "print(mode)\n",
        "mode = df[\"513FC31409.pv\"].mode()\n",
        "print(mode)\n",
        "mode = df[\"513LC31202.pv\"].mode()\n",
        "print(mode)\n",
        "mode = df[\"513PC31201.pv\"].mode()\n",
        "print(mode)\n",
        "mode = df[\"513HC31114-5.mv\"].mode()\n",
        "print(mode)\n",
        "mode = df[\"513FC31114-5.pv\"].mode()\n",
        "print(mode)\n",
        "mode = df[\"513FC31103.pv\"].mode()\n",
        "print(mode)\n",
        "mode = df[\"MFR\"].mode()\n",
        "print(mode)\n",
        "mode = df[\"513TC31220.pv\"].mode()\n",
        "print(mode)\n"
      ]
    },
    {
      "cell_type": "code",
      "source": [
        "mode = df[\"513FC31103.pv\"].mode()\n",
        "print(mode)"
      ],
      "metadata": {
        "id": "WZ-R1bSfuM_b"
      },
      "id": "WZ-R1bSfuM_b",
      "execution_count": null,
      "outputs": []
    },
    {
      "cell_type": "markdown",
      "source": [
        "STANDARD DEVIATION"
      ],
      "metadata": {
        "id": "iusEesjithK5"
      },
      "id": "iusEesjithK5"
    },
    {
      "cell_type": "code",
      "source": [
        "\n",
        "df.std()\n",
        "df2 = df.std().to_frame()\n",
        "df2.columns=[\"Standard Deviation\"]\n",
        "df2.to_csv(\"/std.csv\")\n",
        "\n"
      ],
      "metadata": {
        "id": "5QQWaHU2txwZ"
      },
      "id": "5QQWaHU2txwZ",
      "execution_count": null,
      "outputs": []
    },
    {
      "cell_type": "markdown",
      "source": [
        "HISTOGRAM"
      ],
      "metadata": {
        "id": "-neNaM3EukhX"
      },
      "id": "-neNaM3EukhX"
    },
    {
      "cell_type": "code",
      "execution_count": null,
      "id": "62c85be4",
      "metadata": {
        "id": "62c85be4"
      },
      "outputs": [],
      "source": [
        "df[\"513FC31103.pv\"]=(df[\"513FC31103.pv\"]-df[\"513FC31103.pv\"].min())/(df[\"513FC31103.pv\"].max()-df[\"513FC31103.pv\"].min())"
      ]
    },
    {
      "cell_type": "code",
      "execution_count": null,
      "id": "5d8ea595",
      "metadata": {
        "id": "5d8ea595",
        "colab": {
          "base_uri": "https://localhost:8080/",
          "height": 304
        },
        "outputId": "541c37f1-20b6-41f4-ffbd-4596fb1c5528"
      },
      "outputs": [
        {
          "output_type": "execute_result",
          "data": {
            "text/plain": [
              "<matplotlib.axes._subplots.AxesSubplot at 0x7f91b7a22450>"
            ]
          },
          "metadata": {},
          "execution_count": 5
        },
        {
          "output_type": "display_data",
          "data": {
            "text/plain": [
              "<Figure size 432x288 with 1 Axes>"
            ],
            "image/png": "[encoded data removed]"
          },
          "metadata": {}
        }
      ],
      "source": [
        "x = df[\"513FC31103.pv\"]\n",
        "sn.set()\n",
        "sn.kdeplot(x, shade=True)"
      ]
    },
    {
      "cell_type": "code",
      "execution_count": null,
      "id": "f4101653",
      "metadata": {
        "scrolled": true,
        "id": "f4101653",
        "colab": {
          "base_uri": "https://localhost:8080/",
          "height": 302
        },
        "outputId": "6cce21ab-42cf-4550-a2d5-b2f43056674a"
      },
      "outputs": [
        {
          "output_type": "execute_result",
          "data": {
            "text/plain": [
              "<matplotlib.axes._subplots.AxesSubplot at 0x7f91b7974410>"
            ]
          },
          "metadata": {},
          "execution_count": 6
        },
        {
          "output_type": "display_data",
          "data": {
            "text/plain": [
              "<Figure size 432x288 with 1 Axes>"
            ],
            "image/png": "[encoded data removed]"
          },
          "metadata": {}
        }
      ],
      "source": [
        "x = df[\"513FC31114-5.pv\"]\n",
        "sn.set()\n",
        "sn.kdeplot(x, shade=True)"
      ]
    },
    {
      "cell_type": "code",
      "execution_count": null,
      "id": "027c9fca",
      "metadata": {
        "id": "027c9fca",
        "colab": {
          "base_uri": "https://localhost:8080/",
          "height": 385
        },
        "outputId": "ec48c292-d7e8-4d52-f6e1-3b1a4790e154"
      },
      "outputs": [
        {
          "output_type": "display_data",
          "data": {
            "text/plain": [
              "<Figure size 432x432 with 1 Axes>"
            ],
            "image/png": "[encoded data removed]"
          },
          "metadata": {}
        }
      ],
      "source": [
        "def pdf(x):\n",
        "    mean = np.mean(x)\n",
        "    std = np.std(x)\n",
        "    y_out = 1/(std * np.sqrt(2 * np.pi)) * np.exp( - (x - mean)**2 / (2 * std**2))\n",
        "    return y_out\n",
        "x= df[\"513FC31409.pv\"]\n",
        "y=pdf(x)\n",
        "plt.style.use('seaborn')\n",
        "plt.figure(figsize = (6, 6))\n",
        "plt.plot(x, y, color = 'black',\n",
        "         linestyle = 'dashed')\n",
        "\n",
        "plt.scatter( x, y, marker = 'o', s = 20, color = 'red')\n",
        "plt.show()"
      ]
    },
    {
      "cell_type": "markdown",
      "source": [
        "VARIANCE"
      ],
      "metadata": {
        "id": "IVfjgMk4utNo"
      },
      "id": "IVfjgMk4utNo"
    },
    {
      "cell_type": "code",
      "source": [
        "df.var()"
      ],
      "metadata": {
        "id": "lDIyB8vV4ifW"
      },
      "id": "lDIyB8vV4ifW",
      "execution_count": null,
      "outputs": []
    },
    {
      "cell_type": "markdown",
      "source": [
        "CORRELATION MATRIX"
      ],
      "metadata": {
        "id": "W_QRVMZ_uxII"
      },
      "id": "W_QRVMZ_uxII"
    },
    {
      "cell_type": "code",
      "execution_count": null,
      "id": "5089cc56",
      "metadata": {
        "id": "5089cc56",
        "colab": {
          "base_uri": "https://localhost:8080/",
          "height": 650
        },
        "outputId": "67ff7665-66ee-4a96-aded-37c3738361de"
      },
      "outputs": [
        {
          "output_type": "stream",
          "name": "stderr",
          "text": [
            "/usr/local/lib/python3.7/dist-packages/ipykernel_launcher.py:3: DeprecationWarning: `np.bool` is a deprecated alias for the builtin `bool`. To silence this warning, use `bool` by itself. Doing this will not modify any behavior and is safe. If you specifically wanted the numpy scalar type, use `np.bool_` here.\n",
            "Deprecated in NumPy 1.20; for more details and guidance: https://numpy.org/devdocs/release/1.20.0-notes.html#deprecations\n",
            "  This is separate from the ipykernel package so we can avoid doing imports until\n"
          ]
        },
        {
          "output_type": "execute_result",
          "data": {
            "text/plain": [
              "<matplotlib.axes._subplots.AxesSubplot at 0x7f91b79480d0>"
            ]
          },
          "metadata": {},
          "execution_count": 9
        },
        {
          "output_type": "display_data",
          "data": {
            "text/plain": [
              "<Figure size 720x576 with 2 Axes>"
            ],
            "image/png": "[encoded data removed]"
          },
          "metadata": {}
        }
      ],
      "source": [
        "corr=df.corr()\n",
        "f, ax = plt.subplots(figsize=(10, 8))\n",
        "sn.heatmap(corr, mask=np.zeros_like(corr, dtype=np.bool),\n",
        "            cmap=sn.diverging_palette(220, 10, as_cmap=True),\n",
        "            square=True,ax=ax)"
      ]
    },
    {
      "cell_type": "code",
      "source": [
        "x = df[\"513TC31220.pv\"]\n",
        "sn.set()\n",
        "sn.kdeplot(x, shade=True)"
      ],
      "metadata": {
        "id": "NVXUEjvCvv6B",
        "colab": {
          "base_uri": "https://localhost:8080/",
          "height": 387
        },
        "outputId": "fd114e6e-eccf-4e58-8c86-e28ae2a6f245"
      },
      "id": "NVXUEjvCvv6B",
      "execution_count": null,
      "outputs": [
        {
          "output_type": "execute_result",
          "data": {
            "text/plain": [
              "<matplotlib.axes._subplots.AxesSubplot at 0x7f91b2ac8650>"
            ]
          },
          "metadata": {},
          "execution_count": 10
        },
        {
          "output_type": "display_data",
          "data": {
            "text/plain": [
              "<Figure size 576x396 with 1 Axes>"
            ],
            "image/png": "[encoded data removed]"
          },
          "metadata": {}
        }
      ]
    },
    {
      "cell_type": "code",
      "source": [
        "x = df[\"513HC31114-5.mv\"]\n",
        "sn.set()\n",
        "sn.kdeplot(x, shade=True)"
      ],
      "metadata": {
        "id": "UIwFyl4_vw_T",
        "colab": {
          "base_uri": "https://localhost:8080/",
          "height": 387
        },
        "outputId": "93b613e1-d8cf-4683-b8a1-83e397b93936"
      },
      "id": "UIwFyl4_vw_T",
      "execution_count": null,
      "outputs": [
        {
          "output_type": "execute_result",
          "data": {
            "text/plain": [
              "<matplotlib.axes._subplots.AxesSubplot at 0x7f91b291e110>"
            ]
          },
          "metadata": {},
          "execution_count": 17
        },
        {
          "output_type": "display_data",
          "data": {
            "text/plain": [
              "<Figure size 576x396 with 1 Axes>"
            ],
            "image/png": "[encoded data removed]"
          },
          "metadata": {}
        }
      ]
    },
    {
      "cell_type": "code",
      "source": [
        "x = df[\"MFR\"]\n",
        "sn.set()\n",
        "sn.kdeplot(x, shade=True)\n"
      ],
      "metadata": {
        "id": "L_HOWYq8v368",
        "colab": {
          "base_uri": "https://localhost:8080/",
          "height": 387
        },
        "outputId": "6191a534-be51-4f77-f424-f4184d862f94"
      },
      "id": "L_HOWYq8v368",
      "execution_count": null,
      "outputs": [
        {
          "output_type": "execute_result",
          "data": {
            "text/plain": [
              "<matplotlib.axes._subplots.AxesSubplot at 0x7f91b29b7450>"
            ]
          },
          "metadata": {},
          "execution_count": 12
        },
        {
          "output_type": "display_data",
          "data": {
            "text/plain": [
              "<Figure size 576x396 with 1 Axes>"
            ],
            "image/png": "[encoded data removed]"
          },
          "metadata": {}
        }
      ]
    },
    {
      "cell_type": "code",
      "source": [
        "x = df[\"513PC31201.pv\"]\n",
        "sn.set()\n",
        "sn.kdeplot(x, shade=True)\n"
      ],
      "metadata": {
        "id": "wPrm736Xv7OU",
        "colab": {
          "base_uri": "https://localhost:8080/",
          "height": 388
        },
        "outputId": "daed32a4-4fc3-42be-bbb1-1de2f2d56bd3"
      },
      "id": "wPrm736Xv7OU",
      "execution_count": null,
      "outputs": [
        {
          "output_type": "execute_result",
          "data": {
            "text/plain": [
              "<matplotlib.axes._subplots.AxesSubplot at 0x7f91b2983550>"
            ]
          },
          "metadata": {},
          "execution_count": 13
        },
        {
          "output_type": "display_data",
          "data": {
            "text/plain": [
              "<Figure size 576x396 with 1 Axes>"
            ],
            "image/png": "[encoded data removed]"
          },
          "metadata": {}
        }
      ]
    },
    {
      "cell_type": "code",
      "source": [
        "x = df[\"513LC31202.pv\"]\n",
        "sn.set()\n",
        "sn.kdeplot(x, shade=True)"
      ],
      "metadata": {
        "id": "252z458sv-S3",
        "colab": {
          "base_uri": "https://localhost:8080/",
          "height": 387
        },
        "outputId": "c2eb0119-6914-4bdc-d3a3-469c71674fed"
      },
      "id": "252z458sv-S3",
      "execution_count": null,
      "outputs": [
        {
          "output_type": "execute_result",
          "data": {
            "text/plain": [
              "<matplotlib.axes._subplots.AxesSubplot at 0x7f91b291e250>"
            ]
          },
          "metadata": {},
          "execution_count": 14
        },
        {
          "output_type": "display_data",
          "data": {
            "text/plain": [
              "<Figure size 576x396 with 1 Axes>"
            ],
            "image/png": "[encoded data removed]"
          },
          "metadata": {}
        }
      ]
    },
    {
      "cell_type": "code",
      "source": [
        "x = df[\"513FC31409.pv\"]\n",
        "sn.set()\n",
        "sn.kdeplot(x, shade=True)"
      ],
      "metadata": {
        "id": "F6rRzqlVwBdD",
        "colab": {
          "base_uri": "https://localhost:8080/",
          "height": 398
        },
        "outputId": "9885d1b6-c74f-4f33-b24c-99ee3e515cab"
      },
      "id": "F6rRzqlVwBdD",
      "execution_count": null,
      "outputs": [
        {
          "output_type": "execute_result",
          "data": {
            "text/plain": [
              "<matplotlib.axes._subplots.AxesSubplot at 0x7f91b2876050>"
            ]
          },
          "metadata": {},
          "execution_count": 15
        },
        {
          "output_type": "display_data",
          "data": {
            "text/plain": [
              "<Figure size 576x396 with 1 Axes>"
            ],
            "image/png": "[encoded data removed]"
          },
          "metadata": {}
        }
      ]
    },
    {
      "cell_type": "code",
      "source": [
        "import scipy\n",
        "\n",
        "import seaborn as sns\n",
        "from scipy import stats\n",
        "import statsmodels.api as sm\n",
        "import math\n",
        "from __future__ import division\n"
      ],
      "metadata": {
        "id": "SXdzKUhKB9OG",
        "colab": {
          "base_uri": "https://localhost:8080/"
        },
        "outputId": "54f3ad80-d611-4b91-bcde-53887cc26255"
      },
      "id": "SXdzKUhKB9OG",
      "execution_count": null,
      "outputs": [
        {
          "output_type": "stream",
          "name": "stderr",
          "text": [
            "/usr/local/lib/python3.7/dist-packages/statsmodels/tools/_testing.py:19: FutureWarning: pandas.util.testing is deprecated. Use the functions in the public API at pandas.testing instead.\n",
            "  import pandas.util.testing as tm\n"
          ]
        }
      ]
    },
    {
      "cell_type": "code",
      "source": [
        "df['lnMFR']= np.log(df['MFR'].values)\n",
        "df.columns=['Time','C3=','H2R','Pressure','Bed Level','C2=','Feed Rate','Temp','MFR','lnMFR']\n",
        "df6=df.drop(['MFR','Time','lnMFR'],axis='columns')\n",
        "target=df['lnMFR']\n",
        "df"
      ],
      "metadata": {
        "id": "IKijzmSaRTO_",
        "colab": {
          "base_uri": "https://localhost:8080/",
          "height": 424
        },
        "outputId": "27e2d708-392c-4266-e450-468486bfa85c"
      },
      "id": "IKijzmSaRTO_",
      "execution_count": null,
      "outputs": [
        {
          "output_type": "execute_result",
          "data": {
            "text/plain": [
              "                  Time       C3=       H2R   Pressure  Bed Level        C2=  \\\n",
              "0       4/5/2018 19:45  0.626039  0.153000  30.414835  79.657906  50850.578   \n",
              "1       4/5/2018 21:45  0.674735  0.153000  30.527121  78.532608  42229.813   \n",
              "2       4/5/2018 23:45  0.685611  0.153000  30.356180  78.842636  45335.852   \n",
              "3        4/6/2018 1:45  0.643364  0.153000  30.894308  79.173500  43077.016   \n",
              "4        4/6/2018 3:45  0.625850  0.150000  30.680647  78.677299  40404.387   \n",
              "...                ...       ...       ...        ...        ...        ...   \n",
              "2559   12/10/2018 9:45  0.596091  0.185000  31.025928  77.189499  24022.730   \n",
              "2560  12/17/2018 16:45  0.658212  0.178427  30.663706  77.651055  42525.140   \n",
              "2561  12/17/2018 18:45  0.658212  0.178427  30.663706  77.651055  42525.140   \n",
              "2562   12/27/2018 5:45  0.658212  0.178427  30.663706  77.651055  42525.140   \n",
              "2563  12/31/2018 23:45  0.658212  0.000000  30.663706  77.651055  42525.140   \n",
              "\n",
              "      Feed Rate       Temp   MFR     lnMFR  \n",
              "0      0.163994  80.399605   3.4  1.223775  \n",
              "1      0.129739  78.861328   3.2  1.163151  \n",
              "2      0.150003  78.818115   3.2  1.163151  \n",
              "3      0.151543  79.022720   3.1  1.131402  \n",
              "4      0.122582  79.038483   3.3  1.193922  \n",
              "...         ...        ...   ...       ...  \n",
              "2559   0.103966  81.783371  12.3  2.509599  \n",
              "2560   0.138530  80.144365   3.5  1.252763  \n",
              "2561   0.138530  80.144365   4.0  1.386294  \n",
              "2562   0.138530  80.144365   3.7  1.308333  \n",
              "2563   0.138530  80.144365   3.4  1.223775  \n",
              "\n",
              "[2564 rows x 10 columns]"
            ],
            "text/html": [
              "\n",
              "  <div id=\"df-90af050b-81b0-4088-a995-5af473e42924\">\n",
              "    <div class=\"colab-df-container\">\n",
              "      <div>\n",
              "<style scoped>\n",
              "    .dataframe tbody tr th:only-of-type {\n",
              "        vertical-align: middle;\n",
              "    }\n",
              "\n",
              "    .dataframe tbody tr th {\n",
              "        vertical-align: top;\n",
              "    }\n",
              "\n",
              "    .dataframe thead th {\n",
              "        text-align: right;\n",
              "    }\n",
              "</style>\n",
              "<table border=\"1\" class=\"dataframe\">\n",
              "  <thead>\n",
              "    <tr style=\"text-align: right;\">\n",
              "      <th></th>\n",
              "      <th>Time</th>\n",
              "      <th>C3=</th>\n",
              "      <th>H2R</th>\n",
              "      <th>Pressure</th>\n",
              "      <th>Bed Level</th>\n",
              "      <th>C2=</th>\n",
              "      <th>Feed Rate</th>\n",
              "      <th>Temp</th>\n",
              "      <th>MFR</th>\n",
              "      <th>lnMFR</th>\n",
              "    </tr>\n",
              "  </thead>\n",
              "  <tbody>\n",
              "    <tr>\n",
              "      <th>0</th>\n",
              "      <td>4/5/2018 19:45</td>\n",
              "      <td>0.626039</td>\n",
              "      <td>0.153000</td>\n",
              "      <td>30.414835</td>\n",
              "      <td>79.657906</td>\n",
              "      <td>50850.578</td>\n",
              "      <td>0.163994</td>\n",
              "      <td>80.399605</td>\n",
              "      <td>3.4</td>\n",
              "      <td>1.223775</td>\n",
              "    </tr>\n",
              "    <tr>\n",
              "      <th>1</th>\n",
              "      <td>4/5/2018 21:45</td>\n",
              "      <td>0.674735</td>\n",
              "      <td>0.153000</td>\n",
              "      <td>30.527121</td>\n",
              "      <td>78.532608</td>\n",
              "      <td>42229.813</td>\n",
              "      <td>0.129739</td>\n",
              "      <td>78.861328</td>\n",
              "      <td>3.2</td>\n",
              "      <td>1.163151</td>\n",
              "    </tr>\n",
              "    <tr>\n",
              "      <th>2</th>\n",
              "      <td>4/5/2018 23:45</td>\n",
              "      <td>0.685611</td>\n",
              "      <td>0.153000</td>\n",
              "      <td>30.356180</td>\n",
              "      <td>78.842636</td>\n",
              "      <td>45335.852</td>\n",
              "      <td>0.150003</td>\n",
              "      <td>78.818115</td>\n",
              "      <td>3.2</td>\n",
              "      <td>1.163151</td>\n",
              "    </tr>\n",
              "    <tr>\n",
              "      <th>3</th>\n",
              "      <td>4/6/2018 1:45</td>\n",
              "      <td>0.643364</td>\n",
              "      <td>0.153000</td>\n",
              "      <td>30.894308</td>\n",
              "      <td>79.173500</td>\n",
              "      <td>43077.016</td>\n",
              "      <td>0.151543</td>\n",
              "      <td>79.022720</td>\n",
              "      <td>3.1</td>\n",
              "      <td>1.131402</td>\n",
              "    </tr>\n",
              "    <tr>\n",
              "      <th>4</th>\n",
              "      <td>4/6/2018 3:45</td>\n",
              "      <td>0.625850</td>\n",
              "      <td>0.150000</td>\n",
              "      <td>30.680647</td>\n",
              "      <td>78.677299</td>\n",
              "      <td>40404.387</td>\n",
              "      <td>0.122582</td>\n",
              "      <td>79.038483</td>\n",
              "      <td>3.3</td>\n",
              "      <td>1.193922</td>\n",
              "    </tr>\n",
              "    <tr>\n",
              "      <th>...</th>\n",
              "      <td>...</td>\n",
              "      <td>...</td>\n",
              "      <td>...</td>\n",
              "      <td>...</td>\n",
              "      <td>...</td>\n",
              "      <td>...</td>\n",
              "      <td>...</td>\n",
              "      <td>...</td>\n",
              "      <td>...</td>\n",
              "      <td>...</td>\n",
              "    </tr>\n",
              "    <tr>\n",
              "      <th>2559</th>\n",
              "      <td>12/10/2018 9:45</td>\n",
              "      <td>0.596091</td>\n",
              "      <td>0.185000</td>\n",
              "      <td>31.025928</td>\n",
              "      <td>77.189499</td>\n",
              "      <td>24022.730</td>\n",
              "      <td>0.103966</td>\n",
              "      <td>81.783371</td>\n",
              "      <td>12.3</td>\n",
              "      <td>2.509599</td>\n",
              "    </tr>\n",
              "    <tr>\n",
              "      <th>2560</th>\n",
              "      <td>12/17/2018 16:45</td>\n",
              "      <td>0.658212</td>\n",
              "      <td>0.178427</td>\n",
              "      <td>30.663706</td>\n",
              "      <td>77.651055</td>\n",
              "      <td>42525.140</td>\n",
              "      <td>0.138530</td>\n",
              "      <td>80.144365</td>\n",
              "      <td>3.5</td>\n",
              "      <td>1.252763</td>\n",
              "    </tr>\n",
              "    <tr>\n",
              "      <th>2561</th>\n",
              "      <td>12/17/2018 18:45</td>\n",
              "      <td>0.658212</td>\n",
              "      <td>0.178427</td>\n",
              "      <td>30.663706</td>\n",
              "      <td>77.651055</td>\n",
              "      <td>42525.140</td>\n",
              "      <td>0.138530</td>\n",
              "      <td>80.144365</td>\n",
              "      <td>4.0</td>\n",
              "      <td>1.386294</td>\n",
              "    </tr>\n",
              "    <tr>\n",
              "      <th>2562</th>\n",
              "      <td>12/27/2018 5:45</td>\n",
              "      <td>0.658212</td>\n",
              "      <td>0.178427</td>\n",
              "      <td>30.663706</td>\n",
              "      <td>77.651055</td>\n",
              "      <td>42525.140</td>\n",
              "      <td>0.138530</td>\n",
              "      <td>80.144365</td>\n",
              "      <td>3.7</td>\n",
              "      <td>1.308333</td>\n",
              "    </tr>\n",
              "    <tr>\n",
              "      <th>2563</th>\n",
              "      <td>12/31/2018 23:45</td>\n",
              "      <td>0.658212</td>\n",
              "      <td>0.000000</td>\n",
              "      <td>30.663706</td>\n",
              "      <td>77.651055</td>\n",
              "      <td>42525.140</td>\n",
              "      <td>0.138530</td>\n",
              "      <td>80.144365</td>\n",
              "      <td>3.4</td>\n",
              "      <td>1.223775</td>\n",
              "    </tr>\n",
              "  </tbody>\n",
              "</table>\n",
              "<p>2564 rows × 10 columns</p>\n",
              "</div>\n",
              "      <button class=\"colab-df-convert\" onclick=\"convertToInteractive('df-90af050b-81b0-4088-a995-5af473e42924')\"\n",
              "              title=\"Convert this dataframe to an interactive table.\"\n",
              "              style=\"display:none;\">\n",
              "        \n",
              "  <svg xmlns=\"http://www.w3.org/2000/svg\" height=\"24px\"viewBox=\"0 0 24 24\"\n",
              "       width=\"24px\">\n",
              "    <path d=\"M0 0h24v24H0V0z\" fill=\"none\"/>\n",
              "    <path d=\"M18.56 5.44l.94 2.06.94-2.06 2.06-.94-2.06-.94-.94-2.06-.94 2.06-2.06.94zm-11 1L8.5 8.5l.94-2.06 2.06-.94-2.06-.94L8.5 2.5l-.94 2.06-2.06.94zm10 10l.94 2.06.94-2.06 2.06-.94-2.06-.94-.94-2.06-.94 2.06-2.06.94z\"/><path d=\"M17.41 7.96l-1.37-1.37c-.4-.4-.92-.59-1.43-.59-.52 0-1.04.2-1.43.59L10.3 9.45l-7.72 7.72c-.78.78-.78 2.05 0 2.83L4 21.41c.39.39.9.59 1.41.59.51 0 1.02-.2 1.41-.59l7.78-7.78 2.81-2.81c.8-.78.8-2.07 0-2.86zM5.41 20L4 18.59l7.72-7.72 1.47 1.35L5.41 20z\"/>\n",
              "  </svg>\n",
              "      </button>\n",
              "      \n",
              "  <style>\n",
              "    .colab-df-container {\n",
              "      display:flex;\n",
              "      flex-wrap:wrap;\n",
              "      gap: 12px;\n",
              "    }\n",
              "\n",
              "    .colab-df-convert {\n",
              "      background-color: #E8F0FE;\n",
              "      border: none;\n",
              "      border-radius: 50%;\n",
              "      cursor: pointer;\n",
              "      display: none;\n",
              "      fill: #1967D2;\n",
              "      height: 32px;\n",
              "      padding: 0 0 0 0;\n",
              "      width: 32px;\n",
              "    }\n",
              "\n",
              "    .colab-df-convert:hover {\n",
              "      background-color: #E2EBFA;\n",
              "      box-shadow: 0px 1px 2px rgba(60, 64, 67, 0.3), 0px 1px 3px 1px rgba(60, 64, 67, 0.15);\n",
              "      fill: #174EA6;\n",
              "    }\n",
              "\n",
              "    [theme=dark] .colab-df-convert {\n",
              "      background-color: #3B4455;\n",
              "      fill: #D2E3FC;\n",
              "    }\n",
              "\n",
              "    [theme=dark] .colab-df-convert:hover {\n",
              "      background-color: #434B5C;\n",
              "      box-shadow: 0px 1px 3px 1px rgba(0, 0, 0, 0.15);\n",
              "      filter: drop-shadow(0px 1px 2px rgba(0, 0, 0, 0.3));\n",
              "      fill: #FFFFFF;\n",
              "    }\n",
              "  </style>\n",
              "\n",
              "      <script>\n",
              "        const buttonEl =\n",
              "          document.querySelector('#df-90af050b-81b0-4088-a995-5af473e42924 button.colab-df-convert');\n",
              "        buttonEl.style.display =\n",
              "          google.colab.kernel.accessAllowed ? 'block' : 'none';\n",
              "\n",
              "        async function convertToInteractive(key) {\n",
              "          const element = document.querySelector('#df-90af050b-81b0-4088-a995-5af473e42924');\n",
              "          const dataTable =\n",
              "            await google.colab.kernel.invokeFunction('convertToInteractive',\n",
              "                                                     [key], {});\n",
              "          if (!dataTable) return;\n",
              "\n",
              "          const docLinkHtml = 'Like what you see? Visit the ' +\n",
              "            '<a target=\"_blank\" href=https://colab.research.google.com/notebooks/data_table.ipynb>data table notebook</a>'\n",
              "            + ' to learn more about interactive tables.';\n",
              "          element.innerHTML = '';\n",
              "          dataTable['output_type'] = 'display_data';\n",
              "          await google.colab.output.renderOutput(dataTable, element);\n",
              "          const docLink = document.createElement('div');\n",
              "          docLink.innerHTML = docLinkHtml;\n",
              "          element.appendChild(docLink);\n",
              "        }\n",
              "      </script>\n",
              "    </div>\n",
              "  </div>\n",
              "  "
            ]
          },
          "metadata": {},
          "execution_count": 19
        }
      ]
    },
    {
      "cell_type": "code",
      "source": [
        "from sklearn import linear_model\n",
        "from sklearn.model_selection import train_test_split\n",
        "\n",
        "reg=linear_model.LinearRegression()\n",
        "X_train, X_test, y_train, y_test = train_test_split(df1, target1, test_size=0.2,random_state=49)\n",
        "reg.fit(X_train,y_train)\n",
        "reg.score(X_test,y_test)"
      ],
      "metadata": {
        "id": "mncPw_VYSsJ1",
        "colab": {
          "base_uri": "https://localhost:8080/"
        },
        "outputId": "bae0985b-ca3e-4cd3-9f70-e71db4c2fdb3"
      },
      "id": "mncPw_VYSsJ1",
      "execution_count": null,
      "outputs": [
        {
          "output_type": "execute_result",
          "data": {
            "text/plain": [
              "0.5029093507133158"
            ]
          },
          "metadata": {},
          "execution_count": 26
        }
      ]
    },
    {
      "cell_type": "code",
      "source": [
        "\n",
        "df.describe()\n"
      ],
      "metadata": {
        "id": "Dwmm3iKhAHh_",
        "colab": {
          "base_uri": "https://localhost:8080/",
          "height": 344
        },
        "outputId": "b6bc9fa3-4d57-4351-d5a2-312986566813"
      },
      "id": "Dwmm3iKhAHh_",
      "execution_count": null,
      "outputs": [
        {
          "output_type": "execute_result",
          "data": {
            "text/plain": [
              "                C3=          H2R     Pressure    Bed Level            C2=  \\\n",
              "count   2564.000000  2564.000000  2564.000000  2564.000000    2564.000000   \n",
              "mean   25306.285729     0.178427    30.663706    77.651055   42525.140000   \n",
              "std     1680.314293     0.077412     0.416686     0.905134   11153.613741   \n",
              "min    16106.025000     0.000000    26.946344    74.575958    9610.464800   \n",
              "25%    24407.781250     0.136000    30.450446    77.001868   34968.252750   \n",
              "50%    25306.285729     0.174000    30.633575    77.557159   42109.590000   \n",
              "75%    26372.165750     0.200000    30.914744    78.191603   49621.155000   \n",
              "max    30083.688000     0.980000    32.674332    83.841675  106073.610000   \n",
              "\n",
              "         Feed Rate         Temp          MFR        lnMFR  \n",
              "count  2564.000000  2564.000000  2564.000000  2564.000000  \n",
              "mean      0.138530    80.144365     8.185218     1.901381  \n",
              "std       0.041227     0.810599     5.088696     0.638107  \n",
              "min       0.022162    77.760117     1.500000     0.405465  \n",
              "25%       0.114342    79.693772     3.700000     1.308333  \n",
              "50%       0.133885    80.065209     4.300000     1.458615  \n",
              "75%       0.156450    80.477288    12.900000     2.557227  \n",
              "max       0.677979    91.566544    38.000000     3.637586  "
            ],
            "text/html": [
              "\n",
              "  <div id=\"df-18f9d0e9-1f55-4951-b9bb-452c246a3745\">\n",
              "    <div class=\"colab-df-container\">\n",
              "      <div>\n",
              "<style scoped>\n",
              "    .dataframe tbody tr th:only-of-type {\n",
              "        vertical-align: middle;\n",
              "    }\n",
              "\n",
              "    .dataframe tbody tr th {\n",
              "        vertical-align: top;\n",
              "    }\n",
              "\n",
              "    .dataframe thead th {\n",
              "        text-align: right;\n",
              "    }\n",
              "</style>\n",
              "<table border=\"1\" class=\"dataframe\">\n",
              "  <thead>\n",
              "    <tr style=\"text-align: right;\">\n",
              "      <th></th>\n",
              "      <th>C3=</th>\n",
              "      <th>H2R</th>\n",
              "      <th>Pressure</th>\n",
              "      <th>Bed Level</th>\n",
              "      <th>C2=</th>\n",
              "      <th>Feed Rate</th>\n",
              "      <th>Temp</th>\n",
              "      <th>MFR</th>\n",
              "      <th>lnMFR</th>\n",
              "    </tr>\n",
              "  </thead>\n",
              "  <tbody>\n",
              "    <tr>\n",
              "      <th>count</th>\n",
              "      <td>2564.000000</td>\n",
              "      <td>2564.000000</td>\n",
              "      <td>2564.000000</td>\n",
              "      <td>2564.000000</td>\n",
              "      <td>2564.000000</td>\n",
              "      <td>2564.000000</td>\n",
              "      <td>2564.000000</td>\n",
              "      <td>2564.000000</td>\n",
              "      <td>2564.000000</td>\n",
              "    </tr>\n",
              "    <tr>\n",
              "      <th>mean</th>\n",
              "      <td>25306.285729</td>\n",
              "      <td>0.178427</td>\n",
              "      <td>30.663706</td>\n",
              "      <td>77.651055</td>\n",
              "      <td>42525.140000</td>\n",
              "      <td>0.138530</td>\n",
              "      <td>80.144365</td>\n",
              "      <td>8.185218</td>\n",
              "      <td>1.901381</td>\n",
              "    </tr>\n",
              "    <tr>\n",
              "      <th>std</th>\n",
              "      <td>1680.314293</td>\n",
              "      <td>0.077412</td>\n",
              "      <td>0.416686</td>\n",
              "      <td>0.905134</td>\n",
              "      <td>11153.613741</td>\n",
              "      <td>0.041227</td>\n",
              "      <td>0.810599</td>\n",
              "      <td>5.088696</td>\n",
              "      <td>0.638107</td>\n",
              "    </tr>\n",
              "    <tr>\n",
              "      <th>min</th>\n",
              "      <td>16106.025000</td>\n",
              "      <td>0.000000</td>\n",
              "      <td>26.946344</td>\n",
              "      <td>74.575958</td>\n",
              "      <td>9610.464800</td>\n",
              "      <td>0.022162</td>\n",
              "      <td>77.760117</td>\n",
              "      <td>1.500000</td>\n",
              "      <td>0.405465</td>\n",
              "    </tr>\n",
              "    <tr>\n",
              "      <th>25%</th>\n",
              "      <td>24407.781250</td>\n",
              "      <td>0.136000</td>\n",
              "      <td>30.450446</td>\n",
              "      <td>77.001868</td>\n",
              "      <td>34968.252750</td>\n",
              "      <td>0.114342</td>\n",
              "      <td>79.693772</td>\n",
              "      <td>3.700000</td>\n",
              "      <td>1.308333</td>\n",
              "    </tr>\n",
              "    <tr>\n",
              "      <th>50%</th>\n",
              "      <td>25306.285729</td>\n",
              "      <td>0.174000</td>\n",
              "      <td>30.633575</td>\n",
              "      <td>77.557159</td>\n",
              "      <td>42109.590000</td>\n",
              "      <td>0.133885</td>\n",
              "      <td>80.065209</td>\n",
              "      <td>4.300000</td>\n",
              "      <td>1.458615</td>\n",
              "    </tr>\n",
              "    <tr>\n",
              "      <th>75%</th>\n",
              "      <td>26372.165750</td>\n",
              "      <td>0.200000</td>\n",
              "      <td>30.914744</td>\n",
              "      <td>78.191603</td>\n",
              "      <td>49621.155000</td>\n",
              "      <td>0.156450</td>\n",
              "      <td>80.477288</td>\n",
              "      <td>12.900000</td>\n",
              "      <td>2.557227</td>\n",
              "    </tr>\n",
              "    <tr>\n",
              "      <th>max</th>\n",
              "      <td>30083.688000</td>\n",
              "      <td>0.980000</td>\n",
              "      <td>32.674332</td>\n",
              "      <td>83.841675</td>\n",
              "      <td>106073.610000</td>\n",
              "      <td>0.677979</td>\n",
              "      <td>91.566544</td>\n",
              "      <td>38.000000</td>\n",
              "      <td>3.637586</td>\n",
              "    </tr>\n",
              "  </tbody>\n",
              "</table>\n",
              "</div>\n",
              "      <button class=\"colab-df-convert\" onclick=\"convertToInteractive('df-18f9d0e9-1f55-4951-b9bb-452c246a3745')\"\n",
              "              title=\"Convert this dataframe to an interactive table.\"\n",
              "              style=\"display:none;\">\n",
              "        \n",
              "  <svg xmlns=\"http://www.w3.org/2000/svg\" height=\"24px\"viewBox=\"0 0 24 24\"\n",
              "       width=\"24px\">\n",
              "    <path d=\"M0 0h24v24H0V0z\" fill=\"none\"/>\n",
              "    <path d=\"M18.56 5.44l.94 2.06.94-2.06 2.06-.94-2.06-.94-.94-2.06-.94 2.06-2.06.94zm-11 1L8.5 8.5l.94-2.06 2.06-.94-2.06-.94L8.5 2.5l-.94 2.06-2.06.94zm10 10l.94 2.06.94-2.06 2.06-.94-2.06-.94-.94-2.06-.94 2.06-2.06.94z\"/><path d=\"M17.41 7.96l-1.37-1.37c-.4-.4-.92-.59-1.43-.59-.52 0-1.04.2-1.43.59L10.3 9.45l-7.72 7.72c-.78.78-.78 2.05 0 2.83L4 21.41c.39.39.9.59 1.41.59.51 0 1.02-.2 1.41-.59l7.78-7.78 2.81-2.81c.8-.78.8-2.07 0-2.86zM5.41 20L4 18.59l7.72-7.72 1.47 1.35L5.41 20z\"/>\n",
              "  </svg>\n",
              "      </button>\n",
              "      \n",
              "  <style>\n",
              "    .colab-df-container {\n",
              "      display:flex;\n",
              "      flex-wrap:wrap;\n",
              "      gap: 12px;\n",
              "    }\n",
              "\n",
              "    .colab-df-convert {\n",
              "      background-color: #E8F0FE;\n",
              "      border: none;\n",
              "      border-radius: 50%;\n",
              "      cursor: pointer;\n",
              "      display: none;\n",
              "      fill: #1967D2;\n",
              "      height: 32px;\n",
              "      padding: 0 0 0 0;\n",
              "      width: 32px;\n",
              "    }\n",
              "\n",
              "    .colab-df-convert:hover {\n",
              "      background-color: #E2EBFA;\n",
              "      box-shadow: 0px 1px 2px rgba(60, 64, 67, 0.3), 0px 1px 3px 1px rgba(60, 64, 67, 0.15);\n",
              "      fill: #174EA6;\n",
              "    }\n",
              "\n",
              "    [theme=dark] .colab-df-convert {\n",
              "      background-color: #3B4455;\n",
              "      fill: #D2E3FC;\n",
              "    }\n",
              "\n",
              "    [theme=dark] .colab-df-convert:hover {\n",
              "      background-color: #434B5C;\n",
              "      box-shadow: 0px 1px 3px 1px rgba(0, 0, 0, 0.15);\n",
              "      filter: drop-shadow(0px 1px 2px rgba(0, 0, 0, 0.3));\n",
              "      fill: #FFFFFF;\n",
              "    }\n",
              "  </style>\n",
              "\n",
              "      <script>\n",
              "        const buttonEl =\n",
              "          document.querySelector('#df-18f9d0e9-1f55-4951-b9bb-452c246a3745 button.colab-df-convert');\n",
              "        buttonEl.style.display =\n",
              "          google.colab.kernel.accessAllowed ? 'block' : 'none';\n",
              "\n",
              "        async function convertToInteractive(key) {\n",
              "          const element = document.querySelector('#df-18f9d0e9-1f55-4951-b9bb-452c246a3745');\n",
              "          const dataTable =\n",
              "            await google.colab.kernel.invokeFunction('convertToInteractive',\n",
              "                                                     [key], {});\n",
              "          if (!dataTable) return;\n",
              "\n",
              "          const docLinkHtml = 'Like what you see? Visit the ' +\n",
              "            '<a target=\"_blank\" href=https://colab.research.google.com/notebooks/data_table.ipynb>data table notebook</a>'\n",
              "            + ' to learn more about interactive tables.';\n",
              "          element.innerHTML = '';\n",
              "          dataTable['output_type'] = 'display_data';\n",
              "          await google.colab.output.renderOutput(dataTable, element);\n",
              "          const docLink = document.createElement('div');\n",
              "          docLink.innerHTML = docLinkHtml;\n",
              "          element.appendChild(docLink);\n",
              "        }\n",
              "      </script>\n",
              "    </div>\n",
              "  </div>\n",
              "  "
            ]
          },
          "metadata": {},
          "execution_count": 11
        }
      ]
    },
    {
      "cell_type": "code",
      "source": [
        "pip install pandas-profiling"
      ],
      "metadata": {
        "id": "vjXkQwW2Cd-s",
        "colab": {
          "base_uri": "https://localhost:8080/"
        },
        "outputId": "c76f399e-6251-45cc-f103-9bf067cd76b0"
      },
      "id": "vjXkQwW2Cd-s",
      "execution_count": null,
      "outputs": [
        {
          "output_type": "stream",
          "name": "stdout",
          "text": [
            "Looking in indexes: https://pypi.org/simple, https://us-python.pkg.dev/colab-wheels/public/simple/\n",
            "Requirement already satisfied: pandas-profiling in /usr/local/lib/python3.7/dist-packages (1.4.1)\n",
            "Requirement already satisfied: matplotlib>=1.4 in /usr/local/lib/python3.7/dist-packages (from pandas-profiling) (3.2.2)\n",
            "Requirement already satisfied: jinja2>=2.8 in /usr/local/lib/python3.7/dist-packages (from pandas-profiling) (2.11.3)\n",
            "Requirement already satisfied: pandas>=0.19 in /usr/local/lib/python3.7/dist-packages (from pandas-profiling) (1.3.5)\n",
            "Requirement already satisfied: six>=1.9 in /usr/local/lib/python3.7/dist-packages (from pandas-profiling) (1.15.0)\n",
            "Requirement already satisfied: MarkupSafe>=0.23 in /usr/local/lib/python3.7/dist-packages (from jinja2>=2.8->pandas-profiling) (2.0.1)\n",
            "Requirement already satisfied: numpy>=1.11 in /usr/local/lib/python3.7/dist-packages (from matplotlib>=1.4->pandas-profiling) (1.21.6)\n",
            "Requirement already satisfied: pyparsing!=2.0.4,!=2.1.2,!=2.1.6,>=2.0.1 in /usr/local/lib/python3.7/dist-packages (from matplotlib>=1.4->pandas-profiling) (3.0.9)\n",
            "Requirement already satisfied: cycler>=0.10 in /usr/local/lib/python3.7/dist-packages (from matplotlib>=1.4->pandas-profiling) (0.11.0)\n",
            "Requirement already satisfied: kiwisolver>=1.0.1 in /usr/local/lib/python3.7/dist-packages (from matplotlib>=1.4->pandas-profiling) (1.4.3)\n",
            "Requirement already satisfied: python-dateutil>=2.1 in /usr/local/lib/python3.7/dist-packages (from matplotlib>=1.4->pandas-profiling) (2.8.2)\n",
            "Requirement already satisfied: typing-extensions in /usr/local/lib/python3.7/dist-packages (from kiwisolver>=1.0.1->matplotlib>=1.4->pandas-profiling) (4.1.1)\n",
            "Requirement already satisfied: pytz>=2017.3 in /usr/local/lib/python3.7/dist-packages (from pandas>=0.19->pandas-profiling) (2022.1)\n"
          ]
        }
      ]
    },
    {
      "cell_type": "code",
      "source": [
        "sns.pairplot(df)\n"
      ],
      "metadata": {
        "id": "cu8YJ10gIUgI"
      },
      "id": "cu8YJ10gIUgI",
      "execution_count": null,
      "outputs": []
    },
    {
      "cell_type": "code",
      "source": [
        "sns.jointplot(x= \"H2R\",y= \"lnMFR\",data=df,kind=\"hex\")"
      ],
      "metadata": {
        "id": "J9ig_2jAJW9_"
      },
      "id": "J9ig_2jAJW9_",
      "execution_count": null,
      "outputs": []
    },
    {
      "cell_type": "code",
      "source": [
        "sns.countplot(x=df['H2R'])"
      ],
      "metadata": {
        "id": "AUaU6ij-K5ZA"
      },
      "id": "AUaU6ij-K5ZA",
      "execution_count": null,
      "outputs": []
    },
    {
      "cell_type": "code",
      "source": [
        "import matplotlib.pyplot as plt\n",
        "import seaborn as sns\n",
        "import plotly.express as px\n"
      ],
      "metadata": {
        "id": "wWnLPG_UGXz7"
      },
      "execution_count": null,
      "outputs": [],
      "id": "wWnLPG_UGXz7"
    },
    {
      "cell_type": "code",
      "source": [
        "plt.figure(figsize=(10,8))\n",
        "corr = df.corr()\n",
        "sns.heatmap(corr,annot=True,cmap=plt.cm.Reds)\n"
      ],
      "metadata": {
        "id": "8moVBSPJIOov"
      },
      "id": "8moVBSPJIOov",
      "execution_count": null,
      "outputs": []
    },
    {
      "cell_type": "code",
      "source": [
        "plt.show()"
      ],
      "metadata": {
        "id": "xrJs5wmRO3_b"
      },
      "id": "xrJs5wmRO3_b",
      "execution_count": null,
      "outputs": []
    },
    {
      "cell_type": "code",
      "source": [
        "\n",
        "df7 = df.drop(['Time'],axis='columns')\n",
        "%matplotlib inline\n",
        "plt.figure(figsize=(12,8))\n",
        "for i,c in enumerate(df7.columns):\n",
        "  if i<=7:\n",
        "    plt.subplot(2,4,i+1)\n",
        "    plt.title(c)\n",
        "    plt.boxplot(df7[c])\n",
        "plt.show()\n"
      ],
      "metadata": {
        "id": "6e-Vw49_REH8",
        "colab": {
          "base_uri": "https://localhost:8080/",
          "height": 505
        },
        "outputId": "2736c514-a64b-46bb-ec4f-7ab2ceb9e14d"
      },
      "id": "6e-Vw49_REH8",
      "execution_count": null,
      "outputs": [
        {
          "output_type": "display_data",
          "data": {
            "text/plain": [
              "<Figure size 864x576 with 8 Axes>"
            ],
            "image/png": "[encoded data removed]"
          },
          "metadata": {
            "needs_background": "light"
          }
        }
      ]
    },
    {
      "cell_type": "code",
      "source": [
        "df7 = df7[df7['H2R']<0.7]\n",
        "df7 = df7[df7['Temp']<86]\n",
        "df7=df7[df7['H2R']>0.01]\n",
        "df7=df7[df7['MFR']<30]\n",
        "df7=df7[df7['C2=']<100000]\n",
        "df7.head()"
      ],
      "metadata": {
        "id": "rTf-u2cscPSh",
        "colab": {
          "base_uri": "https://localhost:8080/",
          "height": 206
        },
        "outputId": "ead0109a-d3b6-4ef4-abef-ace9b2c98ee1"
      },
      "id": "rTf-u2cscPSh",
      "execution_count": null,
      "outputs": [
        {
          "output_type": "execute_result",
          "data": {
            "text/plain": [
              "        C3=    H2R   Pressure  Bed Level        C2=  Feed Rate       Temp  \\\n",
              "0  0.626039  0.153  30.414835  79.657906  50850.578   0.163994  80.399605   \n",
              "1  0.674735  0.153  30.527121  78.532608  42229.813   0.129739  78.861328   \n",
              "2  0.685611  0.153  30.356180  78.842636  45335.852   0.150003  78.818115   \n",
              "3  0.643364  0.153  30.894308  79.173500  43077.016   0.151543  79.022720   \n",
              "4  0.625850  0.150  30.680647  78.677299  40404.387   0.122582  79.038483   \n",
              "\n",
              "   MFR     lnMFR  \n",
              "0  3.4  1.223775  \n",
              "1  3.2  1.163151  \n",
              "2  3.2  1.163151  \n",
              "3  3.1  1.131402  \n",
              "4  3.3  1.193922  "
            ],
            "text/html": [
              "\n",
              "  <div id=\"df-368b3fae-fd49-44e7-9fe4-08018925c1dd\">\n",
              "    <div class=\"colab-df-container\">\n",
              "      <div>\n",
              "<style scoped>\n",
              "    .dataframe tbody tr th:only-of-type {\n",
              "        vertical-align: middle;\n",
              "    }\n",
              "\n",
              "    .dataframe tbody tr th {\n",
              "        vertical-align: top;\n",
              "    }\n",
              "\n",
              "    .dataframe thead th {\n",
              "        text-align: right;\n",
              "    }\n",
              "</style>\n",
              "<table border=\"1\" class=\"dataframe\">\n",
              "  <thead>\n",
              "    <tr style=\"text-align: right;\">\n",
              "      <th></th>\n",
              "      <th>C3=</th>\n",
              "      <th>H2R</th>\n",
              "      <th>Pressure</th>\n",
              "      <th>Bed Level</th>\n",
              "      <th>C2=</th>\n",
              "      <th>Feed Rate</th>\n",
              "      <th>Temp</th>\n",
              "      <th>MFR</th>\n",
              "      <th>lnMFR</th>\n",
              "    </tr>\n",
              "  </thead>\n",
              "  <tbody>\n",
              "    <tr>\n",
              "      <th>0</th>\n",
              "      <td>0.626039</td>\n",
              "      <td>0.153</td>\n",
              "      <td>30.414835</td>\n",
              "      <td>79.657906</td>\n",
              "      <td>50850.578</td>\n",
              "      <td>0.163994</td>\n",
              "      <td>80.399605</td>\n",
              "      <td>3.4</td>\n",
              "      <td>1.223775</td>\n",
              "    </tr>\n",
              "    <tr>\n",
              "      <th>1</th>\n",
              "      <td>0.674735</td>\n",
              "      <td>0.153</td>\n",
              "      <td>30.527121</td>\n",
              "      <td>78.532608</td>\n",
              "      <td>42229.813</td>\n",
              "      <td>0.129739</td>\n",
              "      <td>78.861328</td>\n",
              "      <td>3.2</td>\n",
              "      <td>1.163151</td>\n",
              "    </tr>\n",
              "    <tr>\n",
              "      <th>2</th>\n",
              "      <td>0.685611</td>\n",
              "      <td>0.153</td>\n",
              "      <td>30.356180</td>\n",
              "      <td>78.842636</td>\n",
              "      <td>45335.852</td>\n",
              "      <td>0.150003</td>\n",
              "      <td>78.818115</td>\n",
              "      <td>3.2</td>\n",
              "      <td>1.163151</td>\n",
              "    </tr>\n",
              "    <tr>\n",
              "      <th>3</th>\n",
              "      <td>0.643364</td>\n",
              "      <td>0.153</td>\n",
              "      <td>30.894308</td>\n",
              "      <td>79.173500</td>\n",
              "      <td>43077.016</td>\n",
              "      <td>0.151543</td>\n",
              "      <td>79.022720</td>\n",
              "      <td>3.1</td>\n",
              "      <td>1.131402</td>\n",
              "    </tr>\n",
              "    <tr>\n",
              "      <th>4</th>\n",
              "      <td>0.625850</td>\n",
              "      <td>0.150</td>\n",
              "      <td>30.680647</td>\n",
              "      <td>78.677299</td>\n",
              "      <td>40404.387</td>\n",
              "      <td>0.122582</td>\n",
              "      <td>79.038483</td>\n",
              "      <td>3.3</td>\n",
              "      <td>1.193922</td>\n",
              "    </tr>\n",
              "  </tbody>\n",
              "</table>\n",
              "</div>\n",
              "      <button class=\"colab-df-convert\" onclick=\"convertToInteractive('df-368b3fae-fd49-44e7-9fe4-08018925c1dd')\"\n",
              "              title=\"Convert this dataframe to an interactive table.\"\n",
              "              style=\"display:none;\">\n",
              "        \n",
              "  <svg xmlns=\"http://www.w3.org/2000/svg\" height=\"24px\"viewBox=\"0 0 24 24\"\n",
              "       width=\"24px\">\n",
              "    <path d=\"M0 0h24v24H0V0z\" fill=\"none\"/>\n",
              "    <path d=\"M18.56 5.44l.94 2.06.94-2.06 2.06-.94-2.06-.94-.94-2.06-.94 2.06-2.06.94zm-11 1L8.5 8.5l.94-2.06 2.06-.94-2.06-.94L8.5 2.5l-.94 2.06-2.06.94zm10 10l.94 2.06.94-2.06 2.06-.94-2.06-.94-.94-2.06-.94 2.06-2.06.94z\"/><path d=\"M17.41 7.96l-1.37-1.37c-.4-.4-.92-.59-1.43-.59-.52 0-1.04.2-1.43.59L10.3 9.45l-7.72 7.72c-.78.78-.78 2.05 0 2.83L4 21.41c.39.39.9.59 1.41.59.51 0 1.02-.2 1.41-.59l7.78-7.78 2.81-2.81c.8-.78.8-2.07 0-2.86zM5.41 20L4 18.59l7.72-7.72 1.47 1.35L5.41 20z\"/>\n",
              "  </svg>\n",
              "      </button>\n",
              "      \n",
              "  <style>\n",
              "    .colab-df-container {\n",
              "      display:flex;\n",
              "      flex-wrap:wrap;\n",
              "      gap: 12px;\n",
              "    }\n",
              "\n",
              "    .colab-df-convert {\n",
              "      background-color: #E8F0FE;\n",
              "      border: none;\n",
              "      border-radius: 50%;\n",
              "      cursor: pointer;\n",
              "      display: none;\n",
              "      fill: #1967D2;\n",
              "      height: 32px;\n",
              "      padding: 0 0 0 0;\n",
              "      width: 32px;\n",
              "    }\n",
              "\n",
              "    .colab-df-convert:hover {\n",
              "      background-color: #E2EBFA;\n",
              "      box-shadow: 0px 1px 2px rgba(60, 64, 67, 0.3), 0px 1px 3px 1px rgba(60, 64, 67, 0.15);\n",
              "      fill: #174EA6;\n",
              "    }\n",
              "\n",
              "    [theme=dark] .colab-df-convert {\n",
              "      background-color: #3B4455;\n",
              "      fill: #D2E3FC;\n",
              "    }\n",
              "\n",
              "    [theme=dark] .colab-df-convert:hover {\n",
              "      background-color: #434B5C;\n",
              "      box-shadow: 0px 1px 3px 1px rgba(0, 0, 0, 0.15);\n",
              "      filter: drop-shadow(0px 1px 2px rgba(0, 0, 0, 0.3));\n",
              "      fill: #FFFFFF;\n",
              "    }\n",
              "  </style>\n",
              "\n",
              "      <script>\n",
              "        const buttonEl =\n",
              "          document.querySelector('#df-368b3fae-fd49-44e7-9fe4-08018925c1dd button.colab-df-convert');\n",
              "        buttonEl.style.display =\n",
              "          google.colab.kernel.accessAllowed ? 'block' : 'none';\n",
              "\n",
              "        async function convertToInteractive(key) {\n",
              "          const element = document.querySelector('#df-368b3fae-fd49-44e7-9fe4-08018925c1dd');\n",
              "          const dataTable =\n",
              "            await google.colab.kernel.invokeFunction('convertToInteractive',\n",
              "                                                     [key], {});\n",
              "          if (!dataTable) return;\n",
              "\n",
              "          const docLinkHtml = 'Like what you see? Visit the ' +\n",
              "            '<a target=\"_blank\" href=https://colab.research.google.com/notebooks/data_table.ipynb>data table notebook</a>'\n",
              "            + ' to learn more about interactive tables.';\n",
              "          element.innerHTML = '';\n",
              "          dataTable['output_type'] = 'display_data';\n",
              "          await google.colab.output.renderOutput(dataTable, element);\n",
              "          const docLink = document.createElement('div');\n",
              "          docLink.innerHTML = docLinkHtml;\n",
              "          element.appendChild(docLink);\n",
              "        }\n",
              "      </script>\n",
              "    </div>\n",
              "  </div>\n",
              "  "
            ]
          },
          "metadata": {},
          "execution_count": 23
        }
      ]
    },
    {
      "cell_type": "code",
      "source": [
        "\n",
        "%matplotlib inline\n",
        "plt.figure(figsize=(12,8))\n",
        "for i,c in enumerate(df7.columns):\n",
        "  if i<=7:\n",
        "    plt.subplot(2,4,i+1)\n",
        "    plt.title(c)\n",
        "    plt.boxplot(df7[c])\n",
        "plt.show()\n"
      ],
      "metadata": {
        "id": "KA_Z0Oh1PVXR",
        "colab": {
          "base_uri": "https://localhost:8080/",
          "height": 505
        },
        "outputId": "2f783cc6-cec2-45bb-e546-c409637feaf3"
      },
      "id": "KA_Z0Oh1PVXR",
      "execution_count": null,
      "outputs": [
        {
          "output_type": "display_data",
          "data": {
            "text/plain": [
              "<Figure size 864x576 with 8 Axes>"
            ],
            "image/png": "[encoded data removed]"
          },
          "metadata": {
            "needs_background": "light"
          }
        }
      ]
    },
    {
      "cell_type": "code",
      "source": [
        "df7.describe()"
      ],
      "metadata": {
        "id": "YJQcI31MgzT2"
      },
      "id": "YJQcI31MgzT2",
      "execution_count": null,
      "outputs": []
    },
    {
      "cell_type": "code",
      "source": [
        "\n",
        "from sklearn.preprocessing import StandardScaler\n",
        "s=StandardScaler()\n",
        "ds=s.fit_transform(df7)"
      ],
      "metadata": {
        "id": "nPHAhSJlfMxh"
      },
      "id": "nPHAhSJlfMxh",
      "execution_count": null,
      "outputs": []
    },
    {
      "cell_type": "code",
      "source": [
        "ds=pd.DataFrame(ds,columns=df7.columns)\n",
        "ds.head()"
      ],
      "metadata": {
        "id": "hbSLW91wfNNA",
        "colab": {
          "base_uri": "https://localhost:8080/",
          "height": 206
        },
        "outputId": "c00e31e4-bbf6-4746-ccd9-bdd68f073eda"
      },
      "id": "hbSLW91wfNNA",
      "execution_count": null,
      "outputs": [
        {
          "output_type": "execute_result",
          "data": {
            "text/plain": [
              "        C3=       H2R  Pressure  Bed Level       C2=  Feed Rate      Temp  \\\n",
              "0 -0.268789 -0.450815 -0.590953   2.187824  0.739376   0.612998  0.340677   \n",
              "1  0.132571 -0.450815 -0.324799   0.960700 -0.025836  -0.210105 -1.651149   \n",
              "2  0.222209 -0.450815 -0.729984   1.298782  0.249868   0.276797 -1.707103   \n",
              "3 -0.125992 -0.450815  0.545554   1.659585  0.049365   0.313810 -1.442172   \n",
              "4 -0.270348 -0.494035  0.039108   1.118484 -0.187868  -0.382082 -1.421761   \n",
              "\n",
              "        MFR     lnMFR  \n",
              "0 -0.928895 -1.033676  \n",
              "1 -0.969546 -1.129614  \n",
              "2 -0.969546 -1.129614  \n",
              "3 -0.989871 -1.179856  \n",
              "4 -0.949221 -1.080918  "
            ],
            "text/html": [
              "\n",
              "  <div id=\"df-f44be89f-2665-46ec-84f5-69c4771d1642\">\n",
              "    <div class=\"colab-df-container\">\n",
              "      <div>\n",
              "<style scoped>\n",
              "    .dataframe tbody tr th:only-of-type {\n",
              "        vertical-align: middle;\n",
              "    }\n",
              "\n",
              "    .dataframe tbody tr th {\n",
              "        vertical-align: top;\n",
              "    }\n",
              "\n",
              "    .dataframe thead th {\n",
              "        text-align: right;\n",
              "    }\n",
              "</style>\n",
              "<table border=\"1\" class=\"dataframe\">\n",
              "  <thead>\n",
              "    <tr style=\"text-align: right;\">\n",
              "      <th></th>\n",
              "      <th>C3=</th>\n",
              "      <th>H2R</th>\n",
              "      <th>Pressure</th>\n",
              "      <th>Bed Level</th>\n",
              "      <th>C2=</th>\n",
              "      <th>Feed Rate</th>\n",
              "      <th>Temp</th>\n",
              "      <th>MFR</th>\n",
              "      <th>lnMFR</th>\n",
              "    </tr>\n",
              "  </thead>\n",
              "  <tbody>\n",
              "    <tr>\n",
              "      <th>0</th>\n",
              "      <td>-0.268789</td>\n",
              "      <td>-0.450815</td>\n",
              "      <td>-0.590953</td>\n",
              "      <td>2.187824</td>\n",
              "      <td>0.739376</td>\n",
              "      <td>0.612998</td>\n",
              "      <td>0.340677</td>\n",
              "      <td>-0.928895</td>\n",
              "      <td>-1.033676</td>\n",
              "    </tr>\n",
              "    <tr>\n",
              "      <th>1</th>\n",
              "      <td>0.132571</td>\n",
              "      <td>-0.450815</td>\n",
              "      <td>-0.324799</td>\n",
              "      <td>0.960700</td>\n",
              "      <td>-0.025836</td>\n",
              "      <td>-0.210105</td>\n",
              "      <td>-1.651149</td>\n",
              "      <td>-0.969546</td>\n",
              "      <td>-1.129614</td>\n",
              "    </tr>\n",
              "    <tr>\n",
              "      <th>2</th>\n",
              "      <td>0.222209</td>\n",
              "      <td>-0.450815</td>\n",
              "      <td>-0.729984</td>\n",
              "      <td>1.298782</td>\n",
              "      <td>0.249868</td>\n",
              "      <td>0.276797</td>\n",
              "      <td>-1.707103</td>\n",
              "      <td>-0.969546</td>\n",
              "      <td>-1.129614</td>\n",
              "    </tr>\n",
              "    <tr>\n",
              "      <th>3</th>\n",
              "      <td>-0.125992</td>\n",
              "      <td>-0.450815</td>\n",
              "      <td>0.545554</td>\n",
              "      <td>1.659585</td>\n",
              "      <td>0.049365</td>\n",
              "      <td>0.313810</td>\n",
              "      <td>-1.442172</td>\n",
              "      <td>-0.989871</td>\n",
              "      <td>-1.179856</td>\n",
              "    </tr>\n",
              "    <tr>\n",
              "      <th>4</th>\n",
              "      <td>-0.270348</td>\n",
              "      <td>-0.494035</td>\n",
              "      <td>0.039108</td>\n",
              "      <td>1.118484</td>\n",
              "      <td>-0.187868</td>\n",
              "      <td>-0.382082</td>\n",
              "      <td>-1.421761</td>\n",
              "      <td>-0.949221</td>\n",
              "      <td>-1.080918</td>\n",
              "    </tr>\n",
              "  </tbody>\n",
              "</table>\n",
              "</div>\n",
              "      <button class=\"colab-df-convert\" onclick=\"convertToInteractive('df-f44be89f-2665-46ec-84f5-69c4771d1642')\"\n",
              "              title=\"Convert this dataframe to an interactive table.\"\n",
              "              style=\"display:none;\">\n",
              "        \n",
              "  <svg xmlns=\"http://www.w3.org/2000/svg\" height=\"24px\"viewBox=\"0 0 24 24\"\n",
              "       width=\"24px\">\n",
              "    <path d=\"M0 0h24v24H0V0z\" fill=\"none\"/>\n",
              "    <path d=\"M18.56 5.44l.94 2.06.94-2.06 2.06-.94-2.06-.94-.94-2.06-.94 2.06-2.06.94zm-11 1L8.5 8.5l.94-2.06 2.06-.94-2.06-.94L8.5 2.5l-.94 2.06-2.06.94zm10 10l.94 2.06.94-2.06 2.06-.94-2.06-.94-.94-2.06-.94 2.06-2.06.94z\"/><path d=\"M17.41 7.96l-1.37-1.37c-.4-.4-.92-.59-1.43-.59-.52 0-1.04.2-1.43.59L10.3 9.45l-7.72 7.72c-.78.78-.78 2.05 0 2.83L4 21.41c.39.39.9.59 1.41.59.51 0 1.02-.2 1.41-.59l7.78-7.78 2.81-2.81c.8-.78.8-2.07 0-2.86zM5.41 20L4 18.59l7.72-7.72 1.47 1.35L5.41 20z\"/>\n",
              "  </svg>\n",
              "      </button>\n",
              "      \n",
              "  <style>\n",
              "    .colab-df-container {\n",
              "      display:flex;\n",
              "      flex-wrap:wrap;\n",
              "      gap: 12px;\n",
              "    }\n",
              "\n",
              "    .colab-df-convert {\n",
              "      background-color: #E8F0FE;\n",
              "      border: none;\n",
              "      border-radius: 50%;\n",
              "      cursor: pointer;\n",
              "      display: none;\n",
              "      fill: #1967D2;\n",
              "      height: 32px;\n",
              "      padding: 0 0 0 0;\n",
              "      width: 32px;\n",
              "    }\n",
              "\n",
              "    .colab-df-convert:hover {\n",
              "      background-color: #E2EBFA;\n",
              "      box-shadow: 0px 1px 2px rgba(60, 64, 67, 0.3), 0px 1px 3px 1px rgba(60, 64, 67, 0.15);\n",
              "      fill: #174EA6;\n",
              "    }\n",
              "\n",
              "    [theme=dark] .colab-df-convert {\n",
              "      background-color: #3B4455;\n",
              "      fill: #D2E3FC;\n",
              "    }\n",
              "\n",
              "    [theme=dark] .colab-df-convert:hover {\n",
              "      background-color: #434B5C;\n",
              "      box-shadow: 0px 1px 3px 1px rgba(0, 0, 0, 0.15);\n",
              "      filter: drop-shadow(0px 1px 2px rgba(0, 0, 0, 0.3));\n",
              "      fill: #FFFFFF;\n",
              "    }\n",
              "  </style>\n",
              "\n",
              "      <script>\n",
              "        const buttonEl =\n",
              "          document.querySelector('#df-f44be89f-2665-46ec-84f5-69c4771d1642 button.colab-df-convert');\n",
              "        buttonEl.style.display =\n",
              "          google.colab.kernel.accessAllowed ? 'block' : 'none';\n",
              "\n",
              "        async function convertToInteractive(key) {\n",
              "          const element = document.querySelector('#df-f44be89f-2665-46ec-84f5-69c4771d1642');\n",
              "          const dataTable =\n",
              "            await google.colab.kernel.invokeFunction('convertToInteractive',\n",
              "                                                     [key], {});\n",
              "          if (!dataTable) return;\n",
              "\n",
              "          const docLinkHtml = 'Like what you see? Visit the ' +\n",
              "            '<a target=\"_blank\" href=https://colab.research.google.com/notebooks/data_table.ipynb>data table notebook</a>'\n",
              "            + ' to learn more about interactive tables.';\n",
              "          element.innerHTML = '';\n",
              "          dataTable['output_type'] = 'display_data';\n",
              "          await google.colab.output.renderOutput(dataTable, element);\n",
              "          const docLink = document.createElement('div');\n",
              "          docLink.innerHTML = docLinkHtml;\n",
              "          element.appendChild(docLink);\n",
              "        }\n",
              "      </script>\n",
              "    </div>\n",
              "  </div>\n",
              "  "
            ]
          },
          "metadata": {},
          "execution_count": 16
        }
      ]
    },
    {
      "cell_type": "code",
      "source": [
        "from sklearn.svm import SVR\n",
        "regressor = SVR()\n",
        "train,test = train_test_split(ds, test_size=0.2,random_state=40)\n",
        "\n",
        "regressor.fit(X_train, y_train)\n",
        "\n",
        "regressor.score(X_test,y_test)\n"
      ],
      "metadata": {
        "id": "YQR-A_aLpUR-",
        "colab": {
          "base_uri": "https://localhost:8080/"
        },
        "outputId": "7233b927-33f9-49ec-e557-a4d0f44291f6"
      },
      "id": "YQR-A_aLpUR-",
      "execution_count": null,
      "outputs": [
        {
          "output_type": "execute_result",
          "data": {
            "text/plain": [
              "0.2809119835280519"
            ]
          },
          "metadata": {},
          "execution_count": 20
        }
      ]
    },
    {
      "cell_type": "code",
      "source": [
        "df1=df7.drop(['MFR','lnMFR'],axis='columns')\n",
        "target1=df7['lnMFR']"
      ],
      "metadata": {
        "id": "rONyGiBXtBtT"
      },
      "id": "rONyGiBXtBtT",
      "execution_count": null,
      "outputs": []
    },
    {
      "cell_type": "code",
      "source": [
        "from sklearn.ensemble import AdaBoostRegressor\n",
        "from sklearn.ensemble import AdaBoostClassifier\n",
        "\n",
        "ad=AdaBoostRegressor(n_estimators=50,\n",
        "                            learning_rate=0.1)\n",
        "ad.fit(X_train,y_train)\n",
        "ad.score(X_test,y_test)"
      ],
      "metadata": {
        "id": "QsYlWYQm6Web",
        "colab": {
          "base_uri": "https://localhost:8080/"
        },
        "outputId": "1d2edf0a-d91e-4982-fccc-cfd1d6ae9db0"
      },
      "id": "QsYlWYQm6Web",
      "execution_count": null,
      "outputs": [
        {
          "output_type": "execute_result",
          "data": {
            "text/plain": [
              "0.6929149423950812"
            ]
          },
          "metadata": {},
          "execution_count": 21
        }
      ]
    },
    {
      "cell_type": "code",
      "source": [
        "import keras\n",
        "from keras.models import Sequential\n",
        "from keras.layers import Dense, Dropout, Activation, Flatten\n",
        "from keras.layers import Conv2D, MaxPooling2D\n",
        "\n",
        "from keras import backend as K"
      ],
      "metadata": {
        "id": "c4741gI1TJB_"
      },
      "id": "c4741gI1TJB_",
      "execution_count": null,
      "outputs": []
    },
    {
      "cell_type": "code",
      "source": [
        "batch_size = 150\n",
        "epochs =100\n",
        "# input image dimensions\n",
        "img_rows, img_cols = 13, 12\n",
        "#inputshape = X.shape[1]\n"
      ],
      "metadata": {
        "id": "dyAsHB-OA-P5"
      },
      "id": "dyAsHB-OA-P5",
      "execution_count": null,
      "outputs": []
    },
    {
      "cell_type": "code",
      "source": [
        "X_test.shape"
      ],
      "metadata": {
        "id": "I9yeDc3TOaYN",
        "colab": {
          "base_uri": "https://localhost:8080/"
        },
        "outputId": "ca0f3f0e-4d27-4420-e2ff-6dc514dd00ec"
      },
      "id": "I9yeDc3TOaYN",
      "execution_count": null,
      "outputs": [
        {
          "output_type": "execute_result",
          "data": {
            "text/plain": [
              "(494, 7)"
            ]
          },
          "metadata": {},
          "execution_count": 24
        }
      ]
    },
    {
      "cell_type": "code",
      "source": [
        "if K.image_data_format() == 'channels_first':\n",
        "    X_train = X_train.reshape(X_train.shape[0], 1, img_rows, img_cols)\n",
        "    X_test = X_test.reshape(X_test.shape[0], 1, img_rows, img_cols)\n",
        "    input_shape = (1, img_rows, img_cols)\n",
        "else:\n",
        "    X_train = X_train.values.reshape(X_train.shape[0], img_rows, img_cols, 1)\n",
        "    X_test = X_test.values.reshape(X_test.shape[0], img_rows, img_cols, 1)\n",
        "    input_shape = (img_rows, img_cols, 1)\n",
        "\n",
        "X_train = X_train.astype('float32')\n",
        "X_test = X_test.astype('float32')\n",
        "\n",
        "print('x_train shape:', X_train.shape)\n",
        "print(X_train.shape[0], 'train samples')\n",
        "print(X_test.shape[0], 'test samples')"
      ],
      "metadata": {
        "id": "XIkm1vJ2NXGn"
      },
      "id": "XIkm1vJ2NXGn",
      "execution_count": null,
      "outputs": []
    },
    {
      "cell_type": "markdown",
      "source": [
        "**NEURAL NETWORK**"
      ],
      "metadata": {
        "id": "VA8P6iDXdrEL"
      },
      "id": "VA8P6iDXdrEL"
    },
    {
      "cell_type": "code",
      "source": [
        "import numpy as np\n",
        "import tensorflow as tf\n",
        "from tensorflow import keras\n",
        "import pandas as pd\n",
        "from matplotlib import pyplot as plt\n",
        "%matplotlib inline"
      ],
      "metadata": {
        "id": "MXevv9ZGCpoP"
      },
      "id": "MXevv9ZGCpoP",
      "execution_count": null,
      "outputs": []
    },
    {
      "cell_type": "code",
      "source": [
        "df"
      ],
      "metadata": {
        "id": "pbY56Y09FslB"
      },
      "id": "pbY56Y09FslB",
      "execution_count": null,
      "outputs": []
    },
    {
      "cell_type": "code",
      "source": [
        "from sklearn.model_selection import train_test_split\n",
        "X_train, X_test, y_train, y_test = train_test_split(df[['C3=',\t'H2R','Pressure',\t'Bed Level','C2='\t,'Feed Rate','Temp','MFR']],df.lnMFR,test_size=0.3, random_state=25)"
      ],
      "metadata": {
        "id": "oeaTkyAuGKVi"
      },
      "id": "oeaTkyAuGKVi",
      "execution_count": null,
      "outputs": []
    },
    {
      "cell_type": "code",
      "source": [
        "X_train_scaled = X_train.copy()\n",
        "X_train_scaled['C3='] = X_train_scaled['C3='] / 100\n",
        "\n",
        "X_test_scaled = X_test.copy()\n",
        "X_test_scaled['C3='] = X_test_scaled['C3='] / 100\n",
        "X_train_scaled = X_train.copy()\n",
        "X_train_scaled['H2R'] = X_train_scaled['H2R'] / 100\n",
        "\n",
        "X_test_scaled = X_test.copy()\n",
        "X_test_scaled['H2R'] = X_test_scaled['H2R'] / 100\n",
        "X_train_scaled = X_train.copy()\n",
        "X_train_scaled['Feed Rate'] = X_train_scaled['Feed Rate'] / 100\n",
        "\n",
        "X_test_scaled = X_test.copy()\n",
        "X_test_scaled['Feed Rate'] = X_test_scaled['Feed Rate'] / 100"
      ],
      "metadata": {
        "id": "lIhP8WlL-WFp"
      },
      "id": "lIhP8WlL-WFp",
      "execution_count": null,
      "outputs": []
    },
    {
      "cell_type": "code",
      "source": [
        "model = keras.Sequential([\n",
        "    keras.layers.Dense(1, input_shape=(2,), activation='sigmoid', kernel_initializer='ones', bias_initializer='zeros')\n",
        "])\n",
        "\n",
        "model.compile(optimizer='adam',\n",
        "              loss='binary_crossentropy',\n",
        "              metrics=['accuracy'])\n",
        "\n",
        "model.fit(X_train_scaled, y_train, epochs=5000)"
      ],
      "metadata": {
        "id": "TUgPvmK9IXZI"
      },
      "id": "TUgPvmK9IXZI",
      "execution_count": null,
      "outputs": []
    },
    {
      "cell_type": "code",
      "source": [],
      "metadata": {
        "id": "FHFFUZwj_SJ0"
      },
      "id": "FHFFUZwj_SJ0",
      "execution_count": null,
      "outputs": []
    },
    {
      "cell_type": "code",
      "source": [],
      "metadata": {
        "id": "PzQrQa8QAIit"
      },
      "id": "PzQrQa8QAIit",
      "execution_count": null,
      "outputs": []
    },
    {
      "cell_type": "code",
      "source": [
        "\n"
      ],
      "metadata": {
        "id": "IeBaGy-w-72x"
      },
      "id": "IeBaGy-w-72x",
      "execution_count": null,
      "outputs": []
    },
    {
      "cell_type": "code",
      "source": [],
      "metadata": {
        "id": "Ab8DAACQA1IF"
      },
      "id": "Ab8DAACQA1IF",
      "execution_count": null,
      "outputs": []
    },
    {
      "cell_type": "code",
      "source": [],
      "metadata": {
        "id": "DXzAd0cOBYqu"
      },
      "id": "DXzAd0cOBYqu",
      "execution_count": null,
      "outputs": []
    }
  ],
  "metadata": {
    "kernelspec": {
      "display_name": "Python 3 (ipykernel)",
      "language": "python",
      "name": "python3"
    },
    "language_info": {
      "codemirror_mode": {
        "name": "ipython",
        "version": 3
      },
      "file_extension": ".py",
      "mimetype": "text/x-python",
      "name": "python",
      "nbconvert_exporter": "python",
      "pygments_lexer": "ipython3",
      "version": "3.9.7"
    },
    "colab": {
      "provenance": []
    }
  },
  "nbformat": 4,
  "nbformat_minor": 5
}